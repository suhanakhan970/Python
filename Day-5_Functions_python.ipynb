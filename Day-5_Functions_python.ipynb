{
 "cells": [
  {
   "cell_type": "markdown",
   "id": "993959d8",
   "metadata": {},
   "source": [
    "<h1>USER ENTRY</h1>"
   ]
  },
  {
   "cell_type": "code",
   "execution_count": 1,
   "id": "048d9845",
   "metadata": {},
   "outputs": [
    {
     "name": "stdout",
     "output_type": "stream",
     "text": [
      "12\n"
     ]
    }
   ],
   "source": [
    "a=10\n",
    "b=2\n",
    "c=a+b\n",
    "print(c)"
   ]
  },
  {
   "cell_type": "code",
   "execution_count": null,
   "id": "2c54f786",
   "metadata": {},
   "outputs": [],
   "source": [
    "#input that need to enter each time diffrent value\n",
    "variable=input(\"------msg-----\")\n",
    "msg=input(\"please eneter a msg\")\n",
    "print(msg)"
   ]
  },
  {
   "cell_type": "markdown",
   "id": "1da1c60e",
   "metadata": {},
   "source": []
  }
 ],
 "metadata": {
  "kernelspec": {
   "display_name": "base",
   "language": "python",
   "name": "python3"
  },
  "language_info": {
   "codemirror_mode": {
    "name": "ipython",
    "version": 3
   },
   "file_extension": ".py",
   "mimetype": "text/x-python",
   "name": "python",
   "nbconvert_exporter": "python",
   "pygments_lexer": "ipython3",
   "version": "3.12.4"
  }
 },
 "nbformat": 4,
 "nbformat_minor": 5
}
