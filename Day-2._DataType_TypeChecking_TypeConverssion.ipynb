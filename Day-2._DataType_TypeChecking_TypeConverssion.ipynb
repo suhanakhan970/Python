{
 "cells": [
  {
   "cell_type": "markdown",
   "id": "32a9a6d5",
   "metadata": {},
   "source": [
    "statement\n",
    "single line:single or double quotes\n",
    "multiple lines:triple quotes"
   ]
  },
  {
   "cell_type": "code",
   "execution_count": 1,
   "id": "3ac3772d",
   "metadata": {},
   "outputs": [
    {
     "name": "stdout",
     "output_type": "stream",
     "text": [
      "hello python\n"
     ]
    }
   ],
   "source": [
    "print(\"hello python\")"
   ]
  },
  {
   "cell_type": "code",
   "execution_count": 2,
   "id": "d0f40ac0",
   "metadata": {},
   "outputs": [
    {
     "name": "stdout",
     "output_type": "stream",
     "text": [
      "hello python\n"
     ]
    }
   ],
   "source": [
    "print('hello python')"
   ]
  },
  {
   "cell_type": "code",
   "execution_count": 3,
   "id": "66f1885a",
   "metadata": {},
   "outputs": [
    {
     "name": "stdout",
     "output_type": "stream",
     "text": [
      "8*9\n"
     ]
    }
   ],
   "source": [
    "print(\"8*9\")"
   ]
  },
  {
   "cell_type": "code",
   "execution_count": 4,
   "id": "1b759e57",
   "metadata": {},
   "outputs": [
    {
     "name": "stdout",
     "output_type": "stream",
     "text": [
      "jhuiytdzerdxcvbnkpoiug lkhgyrcv ;hgutvb ;lhgjbj\n"
     ]
    }
   ],
   "source": [
    "print(\"\"\"jhuiytdzerdxcvbnkpoiug lkhgyrcv ;hgutvb ;lhgjbj\"\"\")"
   ]
  },
  {
   "cell_type": "markdown",
   "id": "43f51077",
   "metadata": {},
   "source": [
    "Print from next line or new line"
   ]
  },
  {
   "cell_type": "code",
   "execution_count": 5,
   "id": "07ab973c",
   "metadata": {},
   "outputs": [
    {
     "name": "stdout",
     "output_type": "stream",
     "text": [
      "pkjhhtf litrdgf ytfd \n",
      "uotfghhjlk iufty igubkj\n"
     ]
    }
   ],
   "source": [
    "print(\"\"\"pkjhhtf litrdgf ytfd \\nuotfghhjlk iufty igubkj\"\"\")"
   ]
  },
  {
   "cell_type": "markdown",
   "id": "fdd8afc3",
   "metadata": {},
   "source": [
    "PRINT BY VARIABLE WITH STATEMENT"
   ]
  },
  {
   "cell_type": "code",
   "execution_count": 6,
   "id": "0e36fb56",
   "metadata": {},
   "outputs": [
    {
     "name": "stdout",
     "output_type": "stream",
     "text": [
      "we study in noida\n"
     ]
    }
   ],
   "source": [
    "city='noida'\n",
    "print(\"we study in\",city)"
   ]
  },
  {
   "cell_type": "code",
   "execution_count": 8,
   "id": "fd3a083e",
   "metadata": {},
   "outputs": [
    {
     "name": "stdout",
     "output_type": "stream",
     "text": [
      "we study in noida i study da\n",
      "noida i live\n"
     ]
    }
   ],
   "source": [
    "city='noida'\n",
    "course='da'\n",
    "print(\"we study in\",city,\"i study\",course)\n",
    "print(city,\"i live\")"
   ]
  },
  {
   "cell_type": "markdown",
   "id": "f6a42615",
   "metadata": {},
   "source": [
    "PRINT WITH METHOD"
   ]
  },
  {
   "cell_type": "code",
   "execution_count": 14,
   "id": "b1923938",
   "metadata": {},
   "outputs": [
    {
     "name": "stdout",
     "output_type": "stream",
     "text": [
      "10/20/30\n"
     ]
    }
   ],
   "source": [
    "a=10\n",
    "b=20\n",
    "c=30\n",
    "print(a,b,c,sep=\"/\")\n",
    "#sep stands for seprate"
   ]
  },
  {
   "cell_type": "markdown",
   "id": "fd95513d",
   "metadata": {},
   "source": [
    "PRINT IN LAST"
   ]
  },
  {
   "cell_type": "code",
   "execution_count": 19,
   "id": "ea6876b5",
   "metadata": {},
   "outputs": [
    {
     "name": "stdout",
     "output_type": "stream",
     "text": [
      "10/20/30]"
     ]
    }
   ],
   "source": [
    "print(a,b,c,sep=\"/\",end=\"]\")"
   ]
  },
  {
   "cell_type": "markdown",
   "id": "17cae800",
   "metadata": {},
   "source": [
    "PRINT FROM NEXT LINE FORMAT"
   ]
  },
  {
   "cell_type": "code",
   "execution_count": 20,
   "id": "820307fd",
   "metadata": {},
   "outputs": [
    {
     "name": "stdout",
     "output_type": "stream",
     "text": [
      "10\n",
      "20\n",
      "30\n"
     ]
    }
   ],
   "source": [
    "print(f\"{a}\\n{b}\\n{c}\")"
   ]
  },
  {
   "cell_type": "code",
   "execution_count": 24,
   "id": "8aecc579",
   "metadata": {},
   "outputs": [
    {
     "name": "stdout",
     "output_type": "stream",
     "text": [
      "i live in delhi and study in noida\n"
     ]
    }
   ],
   "source": [
    "city1=\"noida\"\n",
    "city2=\"delhi\"\n",
    "print(\"i live in {1} and study in {0}\".format(city1,city2))"
   ]
  },
  {
   "cell_type": "markdown",
   "id": "3d0434ad",
   "metadata": {},
   "source": [
    "<h1>DATATYPE</h1>"
   ]
  },
  {
   "cell_type": "markdown",
   "id": "c5a6be0d",
   "metadata": {},
   "source": [
    "<h5>Every value in python have their data type</h5>\n",
    "<h5>variable:can hold single value</h5>\n",
    "<h4>categorical data type</h4>\n",
    "   * string:collection of character\n",
    "<h4> numerical data type</h4>\n",
    "   * int:whole number:5,7,9,8\n",
    "\n",
    "   * float:decimal:20,60,80\n",
    "\n",
    "   *complex: real+imaginary:10+20j\n",
    "   \n",
    "   *boolean:TRUE,FALSE"
   ]
  },
  {
   "cell_type": "markdown",
   "id": "0c2736e2",
   "metadata": {},
   "source": [
    "<h1>CHECK DATA TYPE</h1>"
   ]
  },
  {
   "cell_type": "code",
   "execution_count": 28,
   "id": "c98a31d8",
   "metadata": {},
   "outputs": [
    {
     "name": "stdout",
     "output_type": "stream",
     "text": [
      "<class 'int'>\n",
      "<class 'str'>\n",
      "<class 'bool'>\n"
     ]
    }
   ],
   "source": [
    "NUM2=80\n",
    "print(type(NUM2))\n",
    "name=\"suhana\"\n",
    "print(type(name))\n",
    "status=True\n",
    "print(type(status))"
   ]
  },
  {
   "cell_type": "markdown",
   "id": "90e49ec8",
   "metadata": {},
   "source": [
    "<h1>CONVERSSION OF DATA TYPE</h1>"
   ]
  },
  {
   "cell_type": "markdown",
   "id": "ab6740f5",
   "metadata": {},
   "source": [
    "<h4>*implicit: Autometic con</h4>\n",
    "<h4>*explicite: custom con</h4>"
   ]
  },
  {
   "cell_type": "code",
   "execution_count": 32,
   "id": "ce0891a6",
   "metadata": {},
   "outputs": [],
   "source": [
    "#implicite\n",
    "a=1\n",
    "b=30.67\n",
    "c=a+b"
   ]
  },
  {
   "cell_type": "code",
   "execution_count": 30,
   "id": "60990d4b",
   "metadata": {},
   "outputs": [
    {
     "data": {
      "text/plain": [
       "float"
      ]
     },
     "execution_count": 30,
     "metadata": {},
     "output_type": "execute_result"
    }
   ],
   "source": [
    "type(c)"
   ]
  },
  {
   "cell_type": "code",
   "execution_count": 35,
   "id": "faefae68",
   "metadata": {},
   "outputs": [
    {
     "name": "stdout",
     "output_type": "stream",
     "text": [
      "10.0\n"
     ]
    }
   ],
   "source": [
    "#explicitwe\n",
    "a=10\n",
    "b=float(a)\n",
    "type(b)\n",
    "print(b)"
   ]
  },
  {
   "cell_type": "code",
   "execution_count": 37,
   "id": "69c1c226",
   "metadata": {},
   "outputs": [
    {
     "name": "stdout",
     "output_type": "stream",
     "text": [
      "56\n"
     ]
    }
   ],
   "source": [
    "b=56.87\n",
    "c=int(b)\n",
    "type(c)\n",
    "print(c)"
   ]
  },
  {
   "cell_type": "code",
   "execution_count": 38,
   "id": "2d4bc70f",
   "metadata": {},
   "outputs": [
    {
     "name": "stdout",
     "output_type": "stream",
     "text": [
      "10\n"
     ]
    }
   ],
   "source": [
    "num=\"10\"\n",
    "a=int(num)\n",
    "print(a)"
   ]
  },
  {
   "cell_type": "code",
   "execution_count": 40,
   "id": "6d006930",
   "metadata": {},
   "outputs": [
    {
     "name": "stdout",
     "output_type": "stream",
     "text": [
      "45\n"
     ]
    }
   ],
   "source": [
    "num=\"45.67\"\n",
    "c=float(num)\n",
    "d=int(c)\n",
    "print(d)"
   ]
  },
  {
   "cell_type": "code",
   "execution_count": null,
   "id": "b15c4623",
   "metadata": {},
   "outputs": [],
   "source": []
  }
 ],
 "metadata": {
  "kernelspec": {
   "display_name": "base",
   "language": "python",
   "name": "python3"
  },
  "language_info": {
   "codemirror_mode": {
    "name": "ipython",
    "version": 3
   },
   "file_extension": ".py",
   "mimetype": "text/x-python",
   "name": "python",
   "nbconvert_exporter": "python",
   "pygments_lexer": "ipython3",
   "version": "3.12.4"
  }
 },
 "nbformat": 4,
 "nbformat_minor": 5
}
