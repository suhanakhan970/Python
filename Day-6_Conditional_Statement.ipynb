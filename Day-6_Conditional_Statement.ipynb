{
 "cells": [
  {
   "cell_type": "markdown",
   "id": "6a236331",
   "metadata": {},
   "source": [
    "<h1>CONDITIONAL STATEMENT</h1>"
   ]
  },
  {
   "cell_type": "markdown",
   "id": "e7f09d4f",
   "metadata": {},
   "source": [
    "<h5>*Decission making\n",
    "\n",
    "*logical test\n",
    "\n",
    "-True\n",
    "\n",
    "-False\n",
    "\n",
    "*exec of statement or code on base the logical conditions</h5>"
   ]
  },
  {
   "cell_type": "markdown",
   "id": "5614e93c",
   "metadata": {},
   "source": [
    "<h1>TYPES OF CONDITIONAL STATEMENT</h1>"
   ]
  },
  {
   "cell_type": "markdown",
   "id": "0cb5afb5",
   "metadata": {},
   "source": [
    "<h5>\n",
    "\n",
    "*if-statement\n",
    "\n",
    "\n",
    "*if-else statement\n",
    "\n",
    "*if elif else statement\n",
    "\n",
    "*nested conditions\n",
    "\n",
    "*conditional expression or one line statement or tendary statement</h5>\n"
   ]
  },
  {
   "cell_type": "markdown",
   "id": "7770bf16",
   "metadata": {},
   "source": [
    "<h1>1. IF-STATEMENT</h1>"
   ]
  },
  {
   "cell_type": "markdown",
   "id": "03daac18",
   "metadata": {},
   "source": [
    "<h5>\n",
    "\n",
    "if logical test:\n",
    "\n",
    "   body of if stament or execution of code for true\n",
    "\n",
    "   "
   ]
  },
  {
   "cell_type": "code",
   "execution_count": 4,
   "id": "ea1d556d",
   "metadata": {},
   "outputs": [
    {
     "name": "stdout",
     "output_type": "stream",
     "text": [
      "you are the adult\n",
      "now you can vote\n"
     ]
    }
   ],
   "source": [
    "age=18\n",
    "if age>=10:\n",
    " print(\"you are the adult\")\n",
    " print(\"now you can vote\")"
   ]
  },
  {
   "cell_type": "markdown",
   "id": "e3f1fc8d",
   "metadata": {},
   "source": []
  },
  {
   "cell_type": "markdown",
   "id": "121e3c8b",
   "metadata": {},
   "source": [
    "<h1>IF ELSE STATEMENT</h1>\n",
    "<h5>exec of statement of code for true and false both</h5>"
   ]
  },
  {
   "cell_type": "code",
   "execution_count": 5,
   "id": "e91bf2a3",
   "metadata": {},
   "outputs": [
    {
     "name": "stdout",
     "output_type": "stream",
     "text": [
      "eligible to vote\n"
     ]
    }
   ],
   "source": [
    "age=20\n",
    "if age>=18:\n",
    "    print(\"eligible to vote\")\n",
    "else:\n",
    "    print(\"not\")"
   ]
  },
  {
   "cell_type": "markdown",
   "id": "164dca36",
   "metadata": {},
   "source": [
    "\n",
    "<h5>multiple condition</h5>\n",
    "<h5>*flat condition- if elif else statement\n",
    "\n",
    "*nested condition-if statemnt inside if statement\n",
    "</h5>"
   ]
  },
  {
   "cell_type": "markdown",
   "id": "2640c50c",
   "metadata": {},
   "source": [
    "<h1>IF-ELIF ELSE STATEMENT</h1>"
   ]
  },
  {
   "cell_type": "code",
   "execution_count": 11,
   "id": "e8019eac",
   "metadata": {},
   "outputs": [
    {
     "name": "stdout",
     "output_type": "stream",
     "text": [
      "B\n"
     ]
    }
   ],
   "source": [
    "marks=85\n",
    "if marks>90:\n",
    "    print(\"your grade is A\")\n",
    "elif marks>=75:\n",
    "    print(\"B\")\n",
    "elif marks>=60:\n",
    "    print(\"C\")\n",
    "elif marks>=40:\n",
    "    print(\"D\")\n",
    "else:\n",
    "    print(\"fail\")"
   ]
  },
  {
   "cell_type": "markdown",
   "id": "ab9a0c8b",
   "metadata": {},
   "source": [
    "<h1>NESTED IF</h1>\n",
    "<h5>\n",
    "\n",
    "*if statement inside if statement\n",
    "\n",
    "*condition inside condition\n",
    "\n",
    "*condition depend one each other</h5>"
   ]
  },
  {
   "cell_type": "code",
   "execution_count": 15,
   "id": "16424af8",
   "metadata": {},
   "outputs": [
    {
     "name": "stdout",
     "output_type": "stream",
     "text": [
      "you are master\n"
     ]
    }
   ],
   "source": [
    "age=10\n",
    "if age>=15:\n",
    "    if age>=60:\n",
    "        print(\"senior\")\n",
    "    else:\n",
    "        print(\"junior\")\n",
    "else:\n",
    "    if age>13:\n",
    "        print(\"you are teeneger\")\n",
    "    else:\n",
    "        print(\"you are master\")"
   ]
  },
  {
   "cell_type": "markdown",
   "id": "06b7473d",
   "metadata": {},
   "source": [
    "<h1>ONE LINE STATEMENT</h1>"
   ]
  },
  {
   "cell_type": "code",
   "execution_count": 16,
   "id": "cc494885",
   "metadata": {},
   "outputs": [
    {
     "name": "stdout",
     "output_type": "stream",
     "text": [
      "adult\n"
     ]
    }
   ],
   "source": [
    "age=20\n",
    "msg=\"adult\" if age>=18 else'minor'\n",
    "print(msg)"
   ]
  },
  {
   "cell_type": "markdown",
   "id": "d692e375",
   "metadata": {},
   "source": []
  },
  {
   "cell_type": "code",
   "execution_count": 19,
   "id": "f32c2c17",
   "metadata": {},
   "outputs": [
    {
     "name": "stdout",
     "output_type": "stream",
     "text": [
      "odd\n"
     ]
    }
   ],
   "source": [
    "#write a program to find that given number is odd or even\n",
    "num=int(input(\"enter a number\"))\n",
    "if num%2==0:\n",
    " print(\"even number\")\n",
    "else:\n",
    " print(\"odd\")"
   ]
  },
  {
   "cell_type": "code",
   "execution_count": 20,
   "id": "c7b88bc7",
   "metadata": {},
   "outputs": [
    {
     "name": "stdout",
     "output_type": "stream",
     "text": [
      "even\n"
     ]
    }
   ],
   "source": [
    "num=20\n",
    "msg=\"even\" if num%2==0 else \"odd\"\n",
    "print(msg)"
   ]
  },
  {
   "cell_type": "code",
   "execution_count": 23,
   "id": "f904d45e",
   "metadata": {},
   "outputs": [
    {
     "name": "stdout",
     "output_type": "stream",
     "text": [
      "negative\n"
     ]
    }
   ],
   "source": [
    "#WRITE A PROGRAM TO FIND THE GIVEN NUM IS ZERO POSITIVE NEGATIVE\n",
    "num=int(input(\"enter a number\"))\n",
    "if num>=0:\n",
    "    print(\"positive\")\n",
    "elif num<0:\n",
    "    print(\"negative\")\n",
    "else:\n",
    " print(\"zero\")"
   ]
  },
  {
   "cell_type": "code",
   "execution_count": 25,
   "id": "649ddcd6",
   "metadata": {},
   "outputs": [
    {
     "name": "stdout",
     "output_type": "stream",
     "text": [
      "pos\n"
     ]
    }
   ],
   "source": [
    "num=int(input(\"enter a number\"))\n",
    "if num>=0:\n",
    "    if num<0:\n",
    "     print(\"neg\")\n",
    "    else:\n",
    "       print(\"pos\")\n",
    "else:\n",
    "     print(\"zero\")\n"
   ]
  },
  {
   "cell_type": "code",
   "execution_count": null,
   "id": "b66bedd2",
   "metadata": {},
   "outputs": [],
   "source": [
    "#pailndrome number\n",
    "#nan\n",
    "#mom\n",
    "#teacher\n",
    "#121\n",
    "#MADAM\n",
    "#lal\n",
    "str=\"nan\"\n",
    "word=\"nama\"\n",
    "\n"
   ]
  },
  {
   "cell_type": "code",
   "execution_count": null,
   "id": "1595e8a0",
   "metadata": {},
   "outputs": [
    {
     "ename": "NameError",
     "evalue": "name 'word' is not defined",
     "output_type": "error",
     "traceback": [
      "\u001b[1;31m---------------------------------------------------------------------------\u001b[0m",
      "\u001b[1;31mNameError\u001b[0m                                 Traceback (most recent call last)",
      "Cell \u001b[1;32mIn[31], line 2\u001b[0m\n\u001b[0;32m      1\u001b[0m \u001b[38;5;28mstr\u001b[39m[ : :\u001b[38;5;241m-\u001b[39m\u001b[38;5;241m1\u001b[39m]\n\u001b[1;32m----> 2\u001b[0m \u001b[38;5;28mprint\u001b[39m(\u001b[43mword\u001b[49m[ : :\u001b[38;5;241m-\u001b[39m\u001b[38;5;241m1\u001b[39m])\n",
      "\u001b[1;31mNameError\u001b[0m: name 'word' is not defined"
     ]
    }
   ],
   "source": [
    "str[ : :-1]\n"
   ]
  },
  {
   "cell_type": "code",
   "execution_count": 33,
   "id": "5fc4d99c",
   "metadata": {},
   "outputs": [
    {
     "name": "stdout",
     "output_type": "stream",
     "text": [
      "not\n"
     ]
    }
   ],
   "source": [
    "str=\"suhana\"\n",
    "if str==str[ : :-1]:\n",
    "    print(\"pailndrome\")\n",
    "else:\n",
    "    print(\"not\")\n"
   ]
  },
  {
   "cell_type": "code",
   "execution_count": null,
   "id": "4469018b",
   "metadata": {},
   "outputs": [],
   "source": []
  }
 ],
 "metadata": {
  "kernelspec": {
   "display_name": "base",
   "language": "python",
   "name": "python3"
  },
  "language_info": {
   "codemirror_mode": {
    "name": "ipython",
    "version": 3
   },
   "file_extension": ".py",
   "mimetype": "text/x-python",
   "name": "python",
   "nbconvert_exporter": "python",
   "pygments_lexer": "ipython3",
   "version": "3.12.4"
  }
 },
 "nbformat": 4,
 "nbformat_minor": 5
}
