{
 "cells": [
  {
   "cell_type": "markdown",
   "id": "da8d6d96",
   "metadata": {},
   "source": [
    "<h1>TUPLE</h1>"
   ]
  },
  {
   "cell_type": "markdown",
   "id": "327ae21b",
   "metadata": {},
   "source": [
    "<h1>DICTIONARY</h1>"
   ]
  },
  {
   "cell_type": "markdown",
   "id": "3d8a5d08",
   "metadata": {},
   "source": [
    "<h5>\n",
    "\n",
    "*Collection of all data types data\n",
    "\n",
    "*data enclosed within in {}\n",
    "\n",
    "*data always in pair - key:value\n",
    "\n",
    "*Key cannot be duplicate but value can\n",
    "\n",
    "*mutable collection for value only\n",
    "\n",
    "*unordered collection"
   ]
  },
  {
   "cell_type": "markdown",
   "id": "55616f10",
   "metadata": {},
   "source": []
  },
  {
   "cell_type": "code",
   "execution_count": 1,
   "id": "f8ca794a",
   "metadata": {},
   "outputs": [],
   "source": [
    "dt={\"Roll No\":1234,\"Name\":\"Ram\",\"City\":\"Noida\",\"College\":\"Grastech\",\"Mobile\":9813049961}"
   ]
  },
  {
   "cell_type": "code",
   "execution_count": 2,
   "id": "3f27914b",
   "metadata": {},
   "outputs": [
    {
     "data": {
      "text/plain": [
       "dict"
      ]
     },
     "execution_count": 2,
     "metadata": {},
     "output_type": "execute_result"
    }
   ],
   "source": [
    "type (dt)"
   ]
  },
  {
   "cell_type": "code",
   "execution_count": 3,
   "id": "96dd9afa",
   "metadata": {},
   "outputs": [
    {
     "data": {
      "text/plain": [
       "dict_keys(['Roll No', 'Name', 'City', 'College', 'Mobile'])"
      ]
     },
     "execution_count": 3,
     "metadata": {},
     "output_type": "execute_result"
    }
   ],
   "source": [
    "dt.keys()"
   ]
  },
  {
   "cell_type": "code",
   "execution_count": 5,
   "id": "a8fdf129",
   "metadata": {},
   "outputs": [
    {
     "data": {
      "text/plain": [
       "dict_values([1234, 'Ram', 'Noida', 'Grastech', 9813049961])"
      ]
     },
     "execution_count": 5,
     "metadata": {},
     "output_type": "execute_result"
    }
   ],
   "source": [
    "dt.values()"
   ]
  },
  {
   "cell_type": "code",
   "execution_count": 6,
   "id": "6a3f99a0",
   "metadata": {},
   "outputs": [
    {
     "data": {
      "text/plain": [
       "dict_items([('Roll No', 1234), ('Name', 'Ram'), ('City', 'Noida'), ('College', 'Grastech'), ('Mobile', 9813049961)])"
      ]
     },
     "execution_count": 6,
     "metadata": {},
     "output_type": "execute_result"
    }
   ],
   "source": [
    "dt.items()"
   ]
  },
  {
   "cell_type": "markdown",
   "id": "93ba5d25",
   "metadata": {},
   "source": [
    "ACCES DATA SAFELY"
   ]
  },
  {
   "cell_type": "code",
   "execution_count": 7,
   "id": "a2e86a4d",
   "metadata": {},
   "outputs": [
    {
     "data": {
      "text/plain": [
       "'Ram'"
      ]
     },
     "execution_count": 7,
     "metadata": {},
     "output_type": "execute_result"
    }
   ],
   "source": [
    "dt.get(\"Name\",0)"
   ]
  },
  {
   "cell_type": "markdown",
   "id": "4d75517d",
   "metadata": {},
   "source": [
    "PICKING OF DATA "
   ]
  },
  {
   "cell_type": "code",
   "execution_count": 9,
   "metadata": {},
   "outputs": [
    {
     "data": {
      "text/plain": [
       "'Noida'"
      ]
     },
     "execution_count": 9,
     "metadata": {},
     "output_type": "execute_result"
    }
   ],
   "source": [
    "dt[\"City\"]"
   ]
  },
  {
   "cell_type": "markdown",
   "id": "266aff2c",
   "metadata": {},
   "source": [
    "ADD ITEM IN DICTIONARY"
   ]
  },
  {
   "cell_type": "code",
   "execution_count": 10,
   "id": "662eb222",
   "metadata": {},
   "outputs": [],
   "source": [
    "dt['pin']=123456"
   ]
  },
  {
   "cell_type": "code",
   "execution_count": 11,
   "id": "90637102",
   "metadata": {},
   "outputs": [
    {
     "data": {
      "text/plain": [
       "{'Roll No': 1234,\n",
       " 'Name': 'Ram',\n",
       " 'City': 'Noida',\n",
       " 'College': 'Grastech',\n",
       " 'Mobile': 9813049961,\n",
       " 'pin': 123456}"
      ]
     },
     "execution_count": 11,
     "metadata": {},
     "output_type": "execute_result"
    }
   ],
   "source": [
    "dt"
   ]
  },
  {
   "cell_type": "code",
   "execution_count": 12,
   "id": "42795e34",
   "metadata": {},
   "outputs": [],
   "source": [
    "dt['pin']=123456"
   ]
  },
  {
   "cell_type": "code",
   "execution_count": 13,
   "id": "6860e91d",
   "metadata": {},
   "outputs": [
    {
     "data": {
      "text/plain": [
       "{'Roll No': 1234,\n",
       " 'Name': 'Ram',\n",
       " 'City': 'Noida',\n",
       " 'College': 'Grastech',\n",
       " 'Mobile': 9813049961,\n",
       " 'pin': 123456}"
      ]
     },
     "execution_count": 13,
     "metadata": {},
     "output_type": "execute_result"
    }
   ],
   "source": [
    "dt"
   ]
  },
  {
   "cell_type": "markdown",
   "id": "4c2b7a62",
   "metadata": {},
   "source": [
    "UPDATE VALUE"
   ]
  },
  {
   "cell_type": "code",
   "execution_count": null,
   "id": "123fe122",
   "metadata": {},
   "outputs": [],
   "source": []
  },
  {
   "cell_type": "markdown",
   "id": "f8757b5d",
   "metadata": {},
   "source": [
    "DELETE"
   ]
  },
  {
   "cell_type": "code",
   "execution_count": 14,
   "id": "15cbbe87",
   "metadata": {},
   "outputs": [],
   "source": [
    "del dt['pin']"
   ]
  },
  {
   "cell_type": "code",
   "execution_count": 15,
   "id": "5aa31f31",
   "metadata": {},
   "outputs": [
    {
     "data": {
      "text/plain": [
       "{'Roll No': 1234,\n",
       " 'Name': 'Ram',\n",
       " 'City': 'Noida',\n",
       " 'College': 'Grastech',\n",
       " 'Mobile': 9813049961}"
      ]
     },
     "execution_count": 15,
     "metadata": {},
     "output_type": "execute_result"
    }
   ],
   "source": [
    "dt"
   ]
  },
  {
   "cell_type": "code",
   "execution_count": null,
   "id": "b51f4e96",
   "metadata": {},
   "outputs": [],
   "source": []
  },
  {
   "cell_type": "markdown",
   "id": "3868f27c",
   "metadata": {},
   "source": [
    "NEW DIC"
   ]
  },
  {
   "cell_type": "code",
   "execution_count": 16,
   "id": "7757c651",
   "metadata": {},
   "outputs": [],
   "source": [
    "dt1={\"course\":\"DA\",\"Fee\":3456}"
   ]
  },
  {
   "cell_type": "code",
   "execution_count": 17,
   "id": "24c5a4b5",
   "metadata": {},
   "outputs": [],
   "source": [
    "dt.update(dt1)"
   ]
  },
  {
   "cell_type": "code",
   "execution_count": 18,
   "id": "1884ba19",
   "metadata": {},
   "outputs": [
    {
     "data": {
      "text/plain": [
       "{'Roll No': 1234,\n",
       " 'Name': 'Ram',\n",
       " 'City': 'Noida',\n",
       " 'College': 'Grastech',\n",
       " 'Mobile': 9813049961,\n",
       " 'course': 'DA',\n",
       " 'Fee': 3456}"
      ]
     },
     "execution_count": 18,
     "metadata": {},
     "output_type": "execute_result"
    }
   ],
   "source": [
    "dt"
   ]
  },
  {
   "cell_type": "markdown",
   "id": "c7d90979",
   "metadata": {},
   "source": []
  },
  {
   "cell_type": "code",
   "execution_count": 19,
   "id": "101dbeac",
   "metadata": {},
   "outputs": [],
   "source": [
    "dt.clear()"
   ]
  },
  {
   "cell_type": "code",
   "execution_count": 20,
   "id": "8832e2bb",
   "metadata": {},
   "outputs": [
    {
     "data": {
      "text/plain": [
       "{}"
      ]
     },
     "execution_count": 20,
     "metadata": {},
     "output_type": "execute_result"
    }
   ],
   "source": [
    "dt"
   ]
  },
  {
   "cell_type": "markdown",
   "id": "9fe258f5",
   "metadata": {},
   "source": [
    "<h1>SET</h1>"
   ]
  },
  {
   "cell_type": "code",
   "execution_count": null,
   "id": "f21017d0",
   "metadata": {},
   "outputs": [],
   "source": [
    "<h5>\n",
    "*"
   ]
  },
  {
   "cell_type": "markdown",
   "id": "dd0f9168",
   "metadata": {},
   "source": [
    "<h5>\n",
    "*Collection of all data type of data\n",
    "\n",
    "*data are in{}\n",
    "\n",
    "*not in pair\n",
    "\n",
    "*unordered collection\n",
    "\n",
    "*mutable\n",
    "\n",
    "*unique records\n",
    "</h1>"
   ]
  },
  {
   "cell_type": "markdown",
   "id": "cbf8b025",
   "metadata": {},
   "source": [
    "st={10,20,\"python\"}"
   ]
  },
  {
   "cell_type": "code",
   "execution_count": 21,
   "id": "0e7a073d",
   "metadata": {},
   "outputs": [],
   "source": [
    "st={10,20,\"python\",10,30}"
   ]
  },
  {
   "cell_type": "code",
   "execution_count": 22,
   "id": "2f7b745c",
   "metadata": {},
   "outputs": [
    {
     "data": {
      "text/plain": [
       "{10, 20, 30, 'python'}"
      ]
     },
     "execution_count": 22,
     "metadata": {},
     "output_type": "execute_result"
    }
   ],
   "source": [
    "st"
   ]
  },
  {
   "cell_type": "markdown",
   "id": "b1e13e73",
   "metadata": {},
   "source": [
    "LENGTH"
   ]
  },
  {
   "cell_type": "code",
   "execution_count": 23,
   "id": "ef0d0246",
   "metadata": {},
   "outputs": [
    {
     "data": {
      "text/plain": [
       "4"
      ]
     },
     "execution_count": 23,
     "metadata": {},
     "output_type": "execute_result"
    }
   ],
   "source": [
    "len(st)"
   ]
  },
  {
   "cell_type": "code",
   "execution_count": 25,
   "id": "b067141e",
   "metadata": {},
   "outputs": [
    {
     "ename": "AttributeError",
     "evalue": "'set' object has no attribute 'count'",
     "output_type": "error",
     "traceback": [
      "\u001b[1;31m---------------------------------------------------------------------------\u001b[0m",
      "\u001b[1;31mAttributeError\u001b[0m                            Traceback (most recent call last)",
      "Cell \u001b[1;32mIn[25], line 1\u001b[0m\n\u001b[1;32m----> 1\u001b[0m \u001b[43mst\u001b[49m\u001b[38;5;241;43m.\u001b[39;49m\u001b[43mcount\u001b[49m(\u001b[38;5;241m10\u001b[39m)\n",
      "\u001b[1;31mAttributeError\u001b[0m: 'set' object has no attribute 'count'"
     ]
    }
   ],
   "source": [
    "st.count(10)"
   ]
  },
  {
   "cell_type": "code",
   "execution_count": 26,
   "id": "f4aec175",
   "metadata": {},
   "outputs": [
    {
     "data": {
      "text/plain": [
       "['__add__',\n",
       " '__class__',\n",
       " '__contains__',\n",
       " '__delattr__',\n",
       " '__dir__',\n",
       " '__doc__',\n",
       " '__eq__',\n",
       " '__format__',\n",
       " '__ge__',\n",
       " '__getattribute__',\n",
       " '__getitem__',\n",
       " '__getnewargs__',\n",
       " '__getstate__',\n",
       " '__gt__',\n",
       " '__hash__',\n",
       " '__init__',\n",
       " '__init_subclass__',\n",
       " '__iter__',\n",
       " '__le__',\n",
       " '__len__',\n",
       " '__lt__',\n",
       " '__mod__',\n",
       " '__mul__',\n",
       " '__ne__',\n",
       " '__new__',\n",
       " '__reduce__',\n",
       " '__reduce_ex__',\n",
       " '__repr__',\n",
       " '__rmod__',\n",
       " '__rmul__',\n",
       " '__setattr__',\n",
       " '__sizeof__',\n",
       " '__str__',\n",
       " '__subclasshook__',\n",
       " 'capitalize',\n",
       " 'casefold',\n",
       " 'center',\n",
       " 'count',\n",
       " 'encode',\n",
       " 'endswith',\n",
       " 'expandtabs',\n",
       " 'find',\n",
       " 'format',\n",
       " 'format_map',\n",
       " 'index',\n",
       " 'isalnum',\n",
       " 'isalpha',\n",
       " 'isascii',\n",
       " 'isdecimal',\n",
       " 'isdigit',\n",
       " 'isidentifier',\n",
       " 'islower',\n",
       " 'isnumeric',\n",
       " 'isprintable',\n",
       " 'isspace',\n",
       " 'istitle',\n",
       " 'isupper',\n",
       " 'join',\n",
       " 'ljust',\n",
       " 'lower',\n",
       " 'lstrip',\n",
       " 'maketrans',\n",
       " 'partition',\n",
       " 'removeprefix',\n",
       " 'removesuffix',\n",
       " 'replace',\n",
       " 'rfind',\n",
       " 'rindex',\n",
       " 'rjust',\n",
       " 'rpartition',\n",
       " 'rsplit',\n",
       " 'rstrip',\n",
       " 'split',\n",
       " 'splitlines',\n",
       " 'startswith',\n",
       " 'strip',\n",
       " 'swapcase',\n",
       " 'title',\n",
       " 'translate',\n",
       " 'upper',\n",
       " 'zfill']"
      ]
     },
     "execution_count": 26,
     "metadata": {},
     "output_type": "execute_result"
    }
   ],
   "source": [
    "dir(\"set\")"
   ]
  },
  {
   "cell_type": "code",
   "execution_count": 27,
   "id": "4c24239d",
   "metadata": {},
   "outputs": [
    {
     "data": {
      "text/plain": [
       "['__add__',\n",
       " '__class__',\n",
       " '__class_getitem__',\n",
       " '__contains__',\n",
       " '__delattr__',\n",
       " '__dir__',\n",
       " '__doc__',\n",
       " '__eq__',\n",
       " '__format__',\n",
       " '__ge__',\n",
       " '__getattribute__',\n",
       " '__getitem__',\n",
       " '__getnewargs__',\n",
       " '__getstate__',\n",
       " '__gt__',\n",
       " '__hash__',\n",
       " '__init__',\n",
       " '__init_subclass__',\n",
       " '__iter__',\n",
       " '__le__',\n",
       " '__len__',\n",
       " '__lt__',\n",
       " '__mul__',\n",
       " '__ne__',\n",
       " '__new__',\n",
       " '__reduce__',\n",
       " '__reduce_ex__',\n",
       " '__repr__',\n",
       " '__rmul__',\n",
       " '__setattr__',\n",
       " '__sizeof__',\n",
       " '__str__',\n",
       " '__subclasshook__',\n",
       " 'count',\n",
       " 'index']"
      ]
     },
     "execution_count": 27,
     "metadata": {},
     "output_type": "execute_result"
    }
   ],
   "source": [
    "dir(tuple)"
   ]
  },
  {
   "cell_type": "code",
   "execution_count": 30,
   "id": "f34a258f",
   "metadata": {},
   "outputs": [
    {
     "data": {
      "text/plain": [
       "'python'"
      ]
     },
     "execution_count": 30,
     "metadata": {},
     "output_type": "execute_result"
    }
   ],
   "source": [
    "st.pop()"
   ]
  },
  {
   "cell_type": "code",
   "execution_count": 31,
   "id": "98d6dbee",
   "metadata": {},
   "outputs": [
    {
     "data": {
      "text/plain": [
       "{20, 30}"
      ]
     },
     "execution_count": 31,
     "metadata": {},
     "output_type": "execute_result"
    }
   ],
   "source": [
    "st"
   ]
  },
  {
   "cell_type": "code",
   "execution_count": 32,
   "id": "8aaddd1b",
   "metadata": {},
   "outputs": [
    {
     "ename": "TypeError",
     "evalue": "set.pop() takes no arguments (1 given)",
     "output_type": "error",
     "traceback": [
      "\u001b[1;31m---------------------------------------------------------------------------\u001b[0m",
      "\u001b[1;31mTypeError\u001b[0m                                 Traceback (most recent call last)",
      "Cell \u001b[1;32mIn[32], line 1\u001b[0m\n\u001b[1;32m----> 1\u001b[0m \u001b[43mst\u001b[49m\u001b[38;5;241;43m.\u001b[39;49m\u001b[43mpop\u001b[49m\u001b[43m(\u001b[49m\u001b[38;5;241;43m2\u001b[39;49m\u001b[43m)\u001b[49m\n",
      "\u001b[1;31mTypeError\u001b[0m: set.pop() takes no arguments (1 given)"
     ]
    }
   ],
   "source": [
    "st.pop(2)"
   ]
  },
  {
   "cell_type": "code",
   "execution_count": 36,
   "id": "bee53b3f",
   "metadata": {},
   "outputs": [],
   "source": [
    "st.add(100)"
   ]
  },
  {
   "cell_type": "code",
   "execution_count": 37,
   "id": "699d4c84",
   "metadata": {},
   "outputs": [
    {
     "data": {
      "text/plain": [
       "{20, 30, 100}"
      ]
     },
     "execution_count": 37,
     "metadata": {},
     "output_type": "execute_result"
    }
   ],
   "source": [
    "st"
   ]
  },
  {
   "cell_type": "code",
   "execution_count": 38,
   "id": "c4e3b9c8",
   "metadata": {},
   "outputs": [
    {
     "data": {
      "text/plain": [
       "100"
      ]
     },
     "execution_count": 38,
     "metadata": {},
     "output_type": "execute_result"
    }
   ],
   "source": [
    "st.pop()"
   ]
  },
  {
   "cell_type": "markdown",
   "id": "09b2c609",
   "metadata": {},
   "source": [
    "<h1>STRING FUNCTIONs</h1>"
   ]
  },
  {
   "cell_type": "code",
   "execution_count": 39,
   "id": "b80e43f0",
   "metadata": {},
   "outputs": [],
   "source": [
    "txt=\"python\""
   ]
  },
  {
   "cell_type": "code",
   "execution_count": 40,
   "id": "3d17a21e",
   "metadata": {},
   "outputs": [
    {
     "data": {
      "text/plain": [
       "'python'"
      ]
     },
     "execution_count": 40,
     "metadata": {},
     "output_type": "execute_result"
    }
   ],
   "source": [
    "txt.lower()"
   ]
  },
  {
   "cell_type": "code",
   "execution_count": 41,
   "id": "7280a70b",
   "metadata": {},
   "outputs": [
    {
     "data": {
      "text/plain": [
       "'PYTHON'"
      ]
     },
     "execution_count": 41,
     "metadata": {},
     "output_type": "execute_result"
    }
   ],
   "source": [
    "txt.upper()"
   ]
  },
  {
   "cell_type": "code",
   "execution_count": 42,
   "id": "47ccadcc",
   "metadata": {},
   "outputs": [
    {
     "data": {
      "text/plain": [
       "'Python'"
      ]
     },
     "execution_count": 42,
     "metadata": {},
     "output_type": "execute_result"
    }
   ],
   "source": [
    "txt.title()"
   ]
  },
  {
   "cell_type": "markdown",
   "id": "a3340f84",
   "metadata": {},
   "source": [
    "<h1>SPLIT</h1>"
   ]
  },
  {
   "cell_type": "code",
   "execution_count": 44,
   "id": "546fc8c2",
   "metadata": {},
   "outputs": [
    {
     "data": {
      "text/plain": [
       "['we', 'learn', 'python']"
      ]
     },
     "execution_count": 44,
     "metadata": {},
     "output_type": "execute_result"
    }
   ],
   "source": [
    "word=\"we learn python\"\n",
    "word.split()"
   ]
  },
  {
   "cell_type": "code",
   "execution_count": 45,
   "id": "68b39937",
   "metadata": {},
   "outputs": [
    {
     "data": {
      "text/plain": [
       "['we ', 'learn ', 'python']"
      ]
     },
     "execution_count": 45,
     "metadata": {},
     "output_type": "execute_result"
    }
   ],
   "source": [
    "word=\"we ,learn ,python\"\n",
    "word.split(\",\")"
   ]
  },
  {
   "cell_type": "code",
   "execution_count": 54,
   "id": "c9201a64",
   "metadata": {},
   "outputs": [],
   "source": [
    "news=\"loioytf56tyvbpoikuurtghhhhh9i ouhyvcfde sedrtyguhijo esrtytubi ftgyuino\"\n",
    "ls=news.split(\" \")"
   ]
  },
  {
   "cell_type": "code",
   "execution_count": 55,
   "id": "fbacc35e",
   "metadata": {},
   "outputs": [
    {
     "data": {
      "text/plain": [
       "['loioytf56tyvbpoikuurtghhhhh9i',\n",
       " 'ouhyvcfde',\n",
       " 'sedrtyguhijo',\n",
       " 'esrtytubi',\n",
       " 'ftgyuino']"
      ]
     },
     "execution_count": 55,
     "metadata": {},
     "output_type": "execute_result"
    }
   ],
   "source": [
    "ls"
   ]
  },
  {
   "cell_type": "code",
   "execution_count": 56,
   "id": "025ff71a",
   "metadata": {},
   "outputs": [
    {
     "data": {
      "text/plain": [
       "'sedrtyguhijo'"
      ]
     },
     "execution_count": 56,
     "metadata": {},
     "output_type": "execute_result"
    }
   ],
   "source": [
    "ls[2]"
   ]
  },
  {
   "cell_type": "markdown",
   "id": "bf59b38c",
   "metadata": {},
   "source": [
    "<h1>SLICE IN BETWEEN</h1>"
   ]
  },
  {
   "cell_type": "code",
   "execution_count": 57,
   "id": "ebc17758",
   "metadata": {},
   "outputs": [
    {
     "data": {
      "text/plain": [
       "'6'"
      ]
     },
     "execution_count": 57,
     "metadata": {},
     "output_type": "execute_result"
    }
   ],
   "source": [
    "str=\"loioytf56tyvbpoikuurtghhhhh9i ouhyvcfde sedrtyguhijo esrtytubi ftgyuino\"\n",
    "str[8]"
   ]
  },
  {
   "cell_type": "code",
   "execution_count": 58,
   "id": "abe695b1",
   "metadata": {},
   "outputs": [
    {
     "data": {
      "text/plain": [
       "'ioytf5'"
      ]
     },
     "execution_count": 58,
     "metadata": {},
     "output_type": "execute_result"
    }
   ],
   "source": [
    "str[2:8]"
   ]
  },
  {
   "cell_type": "code",
   "execution_count": 59,
   "id": "a8a127ae",
   "metadata": {},
   "outputs": [
    {
     "data": {
      "text/plain": [
       "'loioytf5'"
      ]
     },
     "execution_count": 59,
     "metadata": {},
     "output_type": "execute_result"
    }
   ],
   "source": [
    "str[ :8]"
   ]
  },
  {
   "cell_type": "code",
   "execution_count": 60,
   "id": "ddbfc2fc",
   "metadata": {},
   "outputs": [
    {
     "data": {
      "text/plain": [
       "'ioytf56tyvbpoikuurtghhhhh9i ouhyvcfde sedrtyguhijo esrtytubi ftgyuino'"
      ]
     },
     "execution_count": 60,
     "metadata": {},
     "output_type": "execute_result"
    }
   ],
   "source": [
    "str[2:]"
   ]
  },
  {
   "cell_type": "code",
   "execution_count": 61,
   "id": "9ace9058",
   "metadata": {},
   "outputs": [
    {
     "data": {
      "text/plain": [
       "'it'"
      ]
     },
     "execution_count": 61,
     "metadata": {},
     "output_type": "execute_result"
    }
   ],
   "source": [
    "str[2:8:3]"
   ]
  },
  {
   "cell_type": "code",
   "execution_count": null,
   "id": "124f465f",
   "metadata": {},
   "outputs": [],
   "source": []
  }
 ],
 "metadata": {
  "kernelspec": {
   "display_name": "base",
   "language": "python",
   "name": "python3"
  },
  "language_info": {
   "codemirror_mode": {
    "name": "ipython",
    "version": 3
   },
   "file_extension": ".py",
   "mimetype": "text/x-python",
   "name": "python",
   "nbconvert_exporter": "python",
   "pygments_lexer": "ipython3",
   "version": "3.12.4"
  }
 },
 "nbformat": 4,
 "nbformat_minor": 5
}
