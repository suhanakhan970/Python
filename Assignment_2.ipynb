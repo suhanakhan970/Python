{
 "cells": [
  {
   "cell_type": "markdown",
   "id": "c0c2c99e",
   "metadata": {},
   "source": [
    "<h1>QUESTION 1</H1>"
   ]
  },
  {
   "cell_type": "code",
   "execution_count": 6,
   "id": "2b4c151e",
   "metadata": {},
   "outputs": [
    {
     "name": "stdout",
     "output_type": "stream",
     "text": [
      "136.49\n",
      "10.919200000000002\n",
      "147.4092\n"
     ]
    }
   ],
   "source": [
    "pp1=30.99\n",
    "pp2=45.50\n",
    "pp3=60.00\n",
    "sum=pp1+pp2+pp3\n",
    "print(sum)\n",
    "tax=0.08\n",
    "tax_amount=sum*tax\n",
    "print(tax_amount)\n",
    "total_price=sum+tax_amount\n",
    "print(total_price)"
   ]
  },
  {
   "cell_type": "markdown",
   "id": "f2c45399",
   "metadata": {},
   "source": [
    "<h1>QUESTION</h1>"
   ]
  },
  {
   "cell_type": "code",
   "execution_count": 4,
   "id": "af7031d3",
   "metadata": {},
   "outputs": [
    {
     "name": "stdout",
     "output_type": "stream",
     "text": [
      "433\n",
      "86.6\n"
     ]
    }
   ],
   "source": [
    "score=[85,90,78,92,88]\n",
    "total=(sum(score))\n",
    "print(total)\n",
    "num=len(score)\n",
    "avg=total/num\n",
    "print(avg)"
   ]
  },
  {
   "cell_type": "markdown",
   "id": "1e39bc43",
   "metadata": {},
   "source": [
    "<h1>Question 3</h1>"
   ]
  },
  {
   "cell_type": "code",
   "execution_count": 2,
   "id": "90ab7624",
   "metadata": {},
   "outputs": [
    {
     "name": "stdout",
     "output_type": "stream",
     "text": [
      "30000\n",
      "750000\n"
     ]
    }
   ],
   "source": [
    "salary=[50000,60000,70000,750000,30000,55000]\n",
    "print(min(salary))\n",
    "print(max(salary))\n"
   ]
  },
  {
   "cell_type": "markdown",
   "id": "704672db",
   "metadata": {},
   "source": [
    "<h1>QUESTION 4</H1>"
   ]
  },
  {
   "cell_type": "code",
   "execution_count": 4,
   "id": "864eb5fa",
   "metadata": {},
   "outputs": [
    {
     "name": "stdout",
     "output_type": "stream",
     "text": [
      "4\n"
     ]
    }
   ],
   "source": [
    "product=(\"laptop\",1200,8,\"dell\")\n",
    "print(len(product))"
   ]
  },
  {
   "cell_type": "markdown",
   "id": "e448c8da",
   "metadata": {},
   "source": [
    "<h1>QUESTION 5</h1>"
   ]
  },
  {
   "cell_type": "code",
   "execution_count": 6,
   "id": "3a133bca",
   "metadata": {},
   "outputs": [
    {
     "name": "stdout",
     "output_type": "stream",
     "text": [
      "{'john@example.com', 'alice@example.com', 'bob@example.com'}\n"
     ]
    }
   ],
   "source": [
    "ls=[\"alice@example.com\",\"bob@example.com\",\"alice@example.com\",\"john@example.com\"]\n",
    "set1=set(ls)\n",
    "print(set1)"
   ]
  },
  {
   "cell_type": "code",
   "execution_count": 11,
   "id": "90f4c17b",
   "metadata": {},
   "outputs": [
    {
     "name": "stdout",
     "output_type": "stream",
     "text": [
      "('john@example.com', 'alice@example.com', 'bob@example.com')\n"
     ]
    }
   ],
   "source": [
    "set={\"alice@example.com\",\"bob@example.com\",\"alice@example.com\",\"john@example.com\"}\n",
    "tuple=tuple(set1)\n",
    "print(tuple)"
   ]
  },
  {
   "cell_type": "markdown",
   "id": "3414c2b1",
   "metadata": {},
   "source": [
    "<h1>QUESTION 6</h1>"
   ]
  },
  {
   "cell_type": "code",
   "execution_count": null,
   "id": "fbf367a2",
   "metadata": {},
   "outputs": [
    {
     "name": "stdout",
     "output_type": "stream",
     "text": [
      "[12, 23, 34, 55, 89]\n"
     ]
    }
   ],
   "source": [
    "list=[34,12,55,23,89]\n",
    "print(sorted(list))\n"
   ]
  },
  {
   "cell_type": "code",
   "execution_count": 14,
   "id": "013b5c4e",
   "metadata": {},
   "outputs": [
    {
     "name": "stdout",
     "output_type": "stream",
     "text": [
      "[89, 55, 34, 23, 12]\n"
     ]
    }
   ],
   "source": [
    "list=[34,12,55,23,89 ]\n",
    "print(sorted(list, reverse=True))\n"
   ]
  },
  {
   "cell_type": "markdown",
   "id": "77d23f37",
   "metadata": {},
   "source": [
    "<h1>QUESTION 7</h1>"
   ]
  },
  {
   "cell_type": "code",
   "execution_count": 17,
   "id": "5c46f068",
   "metadata": {},
   "outputs": [
    {
     "name": "stdout",
     "output_type": "stream",
     "text": [
      "dict_keys(['apple', 'banana', 'orange'])\n",
      "dict_values([1.2, 0.5, 0.8])\n"
     ]
    }
   ],
   "source": [
    "dic={\"apple\":1.2,\"banana\":0.5,\"orange\":0.8}\n",
    "print(dic.keys())\n",
    "print(dic.values())\n"
   ]
  },
  {
   "cell_type": "markdown",
   "id": "23f37a1a",
   "metadata": {},
   "source": [
    "<h1>QUESTION 8</h1>"
   ]
  },
  {
   "cell_type": "code",
   "execution_count": null,
   "id": "ab30f681",
   "metadata": {},
   "outputs": [],
   "source": []
  }
 ],
 "metadata": {
  "kernelspec": {
   "display_name": "base",
   "language": "python",
   "name": "python3"
  },
  "language_info": {
   "codemirror_mode": {
    "name": "ipython",
    "version": 3
   },
   "file_extension": ".py",
   "mimetype": "text/x-python",
   "name": "python",
   "nbconvert_exporter": "python",
   "pygments_lexer": "ipython3",
   "version": "3.12.4"
  }
 },
 "nbformat": 4,
 "nbformat_minor": 5
}
