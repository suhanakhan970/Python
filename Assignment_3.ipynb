{
 "cells": [
  {
   "cell_type": "markdown",
   "id": "b0cdbef5",
   "metadata": {},
   "source": [
    "<h1>CONDITIONAL STATEMENT</h1>"
   ]
  },
  {
   "cell_type": "markdown",
   "id": "81372ea6",
   "metadata": {},
   "source": [
    "<h1>1.QUESTION</h1>"
   ]
  },
  {
   "cell_type": "code",
   "execution_count": 1,
   "id": "d00d9675",
   "metadata": {},
   "outputs": [
    {
     "name": "stdout",
     "output_type": "stream",
     "text": [
      "x geater then 5\n"
     ]
    }
   ],
   "source": [
    "x=10\n",
    "if x>5:\n",
    " print(\"x geater then 5\")"
   ]
  },
  {
   "cell_type": "markdown",
   "id": "f1fd9969",
   "metadata": {},
   "source": [
    "<h1>2.QUESTION </h1>"
   ]
  },
  {
   "cell_type": "code",
   "execution_count": 2,
   "id": "4e8bd014",
   "metadata": {},
   "outputs": [
    {
     "name": "stdout",
     "output_type": "stream",
     "text": [
      "no is odd\n"
     ]
    }
   ],
   "source": [
    "num=int(input(\"enter the number\"))\n",
    "if num%2==0:\n",
    "    print(\"no is even\")\n",
    "else:\n",
    "     print(\"no is odd\")"
   ]
  },
  {
   "cell_type": "markdown",
   "id": "0148b761",
   "metadata": {},
   "source": [
    "<h1>3.QUESTION</h1>"
   ]
  },
  {
   "cell_type": "code",
   "execution_count": 6,
   "id": "e6f565c3",
   "metadata": {},
   "outputs": [
    {
     "name": "stdout",
     "output_type": "stream",
     "text": [
      "start with h\n"
     ]
    }
   ],
   "source": [
    "text=\"hello\"\n",
    "if text.startswith(\"h\"):\n",
    "    print(\"start with h\")\n",
    "else:\n",
    "    print(\"not\")"
   ]
  },
  {
   "cell_type": "code",
   "execution_count": 7,
   "id": "b3aa76c0",
   "metadata": {},
   "outputs": [
    {
     "name": "stdout",
     "output_type": "stream",
     "text": [
      "end with h\n"
     ]
    }
   ],
   "source": [
    "text=\"hello\"\n",
    "if text.endswith(\"o\"):\n",
    "    print(\"end with h\")\n",
    "else:\n",
    "    print(\"not\")"
   ]
  },
  {
   "cell_type": "markdown",
   "id": "c5a81f87",
   "metadata": {},
   "source": [
    "<h1>4.QUESTION</h1>"
   ]
  },
  {
   "cell_type": "code",
   "execution_count": 8,
   "id": "9046e569",
   "metadata": {},
   "outputs": [
    {
     "name": "stdout",
     "output_type": "stream",
     "text": [
      "no. is positive\n"
     ]
    }
   ],
   "source": [
    "num=3\n",
    "if num>0:\n",
    "    print(\"no. is positive\")"
   ]
  },
  {
   "cell_type": "markdown",
   "id": "9635a8ed",
   "metadata": {},
   "source": [
    "<h1>5.QUESTION</h1>"
   ]
  },
  {
   "cell_type": "code",
   "execution_count": null,
   "id": "2ee5106e",
   "metadata": {},
   "outputs": [],
   "source": [
    "fruit=int(input)"
   ]
  },
  {
   "cell_type": "markdown",
   "id": "ff29d84f",
   "metadata": {},
   "source": [
    "<h1>6.QUESTION</h1>"
   ]
  },
  {
   "cell_type": "code",
   "execution_count": 9,
   "id": "8e1c5ab2",
   "metadata": {},
   "outputs": [
    {
     "name": "stdout",
     "output_type": "stream",
     "text": [
      "adult\n"
     ]
    }
   ],
   "source": [
    "age=20\n",
    "if age>=18:\n",
    "    print(\"adult\")\n",
    "else:(\"minor\")"
   ]
  },
  {
   "cell_type": "markdown",
   "id": "7494ef2c",
   "metadata": {},
   "source": [
    "<h1>7.QUESTION</h1>"
   ]
  },
  {
   "cell_type": "code",
   "execution_count": 10,
   "id": "f489d631",
   "metadata": {},
   "outputs": [
    {
     "name": "stdout",
     "output_type": "stream",
     "text": [
      "hot\n"
     ]
    }
   ],
   "source": [
    "temp=30\n",
    "if temp>25:\n",
    "    print(\"hot\")\n",
    "else:\n",
    "    print(\"cool\")"
   ]
  },
  {
   "cell_type": "markdown",
   "id": "67fb5aa5",
   "metadata": {},
   "source": [
    "<h1>8.QUESTION</h1>"
   ]
  },
  {
   "cell_type": "code",
   "execution_count": 11,
   "id": "68f1c6e9",
   "metadata": {},
   "outputs": [
    {
     "name": "stdout",
     "output_type": "stream",
     "text": [
      "negative\n"
     ]
    }
   ],
   "source": [
    "num=-7\n",
    "if num<0:\n",
    "    print(\"negative\")\n",
    "else:\n",
    "    print(\"positive\")"
   ]
  },
  {
   "cell_type": "markdown",
   "id": "4e4f9ca2",
   "metadata": {},
   "source": [
    "<h1>9.QUESTION</h1>"
   ]
  },
  {
   "cell_type": "code",
   "execution_count": 12,
   "id": "88b01ee5",
   "metadata": {},
   "outputs": [
    {
     "name": "stdout",
     "output_type": "stream",
     "text": [
      "long\n"
     ]
    }
   ],
   "source": [
    "text=\"python\"\n",
    "if len(text)<5:\n",
    "    print(\"short\")\n",
    "else:\n",
    "    print( \"long\")\n"
   ]
  },
  {
   "cell_type": "markdown",
   "id": "189b296b",
   "metadata": {},
   "source": [
    "<h1>10.QUESTION</h1>"
   ]
  },
  {
   "cell_type": "code",
   "execution_count": 13,
   "id": "604a51da",
   "metadata": {},
   "outputs": [
    {
     "name": "stdout",
     "output_type": "stream",
     "text": [
      "pass\n"
     ]
    }
   ],
   "source": [
    "score=85\n",
    "if score>=50:\n",
    "    print(\"pass\")\n",
    "else:\n",
    "    print(\"fail\")"
   ]
  },
  {
   "cell_type": "markdown",
   "id": "4242f5a5",
   "metadata": {},
   "source": [
    "<h1>11.QUESTION</h1>"
   ]
  },
  {
   "cell_type": "code",
   "execution_count": 20,
   "id": "810ab7bb",
   "metadata": {},
   "outputs": [
    {
     "name": "stdout",
     "output_type": "stream",
     "text": [
      "hot\n"
     ]
    }
   ],
   "source": [
    "temp=30\n",
    "if temp<10:\n",
    "    print(\"cold\")\n",
    "elif temp<10 or temp<25:\n",
    "    print(\"warm\")\n",
    "elif temp>25:\n",
    "    print(\"hot\")\n"
   ]
  },
  {
   "cell_type": "markdown",
   "id": "5a7e255c",
   "metadata": {},
   "source": [
    "<h1>12.QUESTION</h1>"
   ]
  },
  {
   "cell_type": "code",
   "execution_count": 21,
   "id": "7e018853",
   "metadata": {},
   "outputs": [
    {
     "name": "stdout",
     "output_type": "stream",
     "text": [
      "wednesday\n"
     ]
    }
   ],
   "source": [
    "day=3\n",
    "if day==1:\n",
    " print(\"monday\")\n",
    "elif day==2:\n",
    " print(\"tuesday\")\n",
    "elif day==3:\n",
    " print(\"wednesday\")\n",
    " "
   ]
  },
  {
   "cell_type": "markdown",
   "id": "d2a9b355",
   "metadata": {},
   "source": [
    "<h1>13.QUESTION</h1>"
   ]
  },
  {
   "cell_type": "code",
   "execution_count": 22,
   "id": "9ce5a0c6",
   "metadata": {},
   "outputs": [
    {
     "name": "stdout",
     "output_type": "stream",
     "text": [
      "negaitive\n"
     ]
    }
   ],
   "source": [
    "num=-5\n",
    "if num<0:\n",
    "    print(\"negaitive\")\n",
    "elif num>0:\n",
    "    print(\"positive\")\n",
    "elif num==0:\n",
    " print(\"zero\")"
   ]
  },
  {
   "cell_type": "markdown",
   "id": "5ad41c06",
   "metadata": {},
   "source": [
    "<h1>14.QUESTION</h1>\n"
   ]
  },
  {
   "cell_type": "markdown",
   "id": "77e36695",
   "metadata": {},
   "source": []
  },
  {
   "cell_type": "code",
   "execution_count": 25,
   "id": "cce72c4a",
   "metadata": {},
   "outputs": [
    {
     "name": "stdout",
     "output_type": "stream",
     "text": [
      "10% discount\n"
     ]
    }
   ],
   "source": [
    "\n",
    "purchase_amount=150\n",
    "if purchase_amount>100:\n",
    "    print(\"10% discount\")\n",
    "elif purchase_amount>50:\n",
    "    print(\"5% discount\")\n",
    "else:\n",
    "    print(\"no discount\")\n",
    "\n"
   ]
  },
  {
   "cell_type": "markdown",
   "id": "5727b602",
   "metadata": {},
   "source": [
    "<h1>15.QUESTION</h1\n"
   ]
  },
  {
   "cell_type": "code",
   "execution_count": 41,
   "id": "ead2d8d0",
   "metadata": {},
   "outputs": [
    {
     "name": "stdout",
     "output_type": "stream",
     "text": [
      "teenager\n"
     ]
    }
   ],
   "source": [
    "age=16\n",
    "if age>0 and age<=12:\n",
    "    print(\"child\")\n",
    "elif age>13 and age<=19:\n",
    "    print(\"teenager\")\n",
    "elif age>20 and age<=64:\n",
    "    print(\"adult\")\n",
    "else:\n",
    "    print(\"senoir\")"
   ]
  },
  {
   "cell_type": "markdown",
   "id": "8fbca41e",
   "metadata": {},
   "source": [
    "<h1>16.QUESTION</h1>"
   ]
  },
  {
   "cell_type": "code",
   "execution_count": 46,
   "id": "67e7473d",
   "metadata": {},
   "outputs": [
    {
     "name": "stdout",
     "output_type": "stream",
     "text": [
      "adult\n"
     ]
    }
   ],
   "source": [
    "age=45\n",
    "if age>=18:\n",
    "   if age<=30:\n",
    "    print(\"young adult\")\n",
    "   else:\n",
    "      print(\"adult\")\n",
    "else:\n",
    "  print(\"below 18\")\n",
    "   \n"
   ]
  },
  {
   "cell_type": "markdown",
   "id": "61b5340a",
   "metadata": {},
   "source": [
    "<h1>17.QUESTION</h1>"
   ]
  },
  {
   "cell_type": "code",
   "execution_count": 47,
   "id": "7238aec2",
   "metadata": {},
   "outputs": [
    {
     "name": "stdout",
     "output_type": "stream",
     "text": [
      "warm\n"
     ]
    }
   ],
   "source": [
    "temp=22\n",
    "if temp<10:\n",
    "    print(\"cold\")\n",
    "else:\n",
    "    if temp<=20:\n",
    "            print(\"cool\")\n",
    "    else:\n",
    "            print(\"warm\")\n",
    "   "
   ]
  },
  {
   "cell_type": "markdown",
   "id": "a31abd6a",
   "metadata": {},
   "source": []
  },
  {
   "cell_type": "markdown",
   "id": "7115e2e1",
   "metadata": {},
   "source": [
    "<h1>18.QUESTION</h1>"
   ]
  },
  {
   "cell_type": "code",
   "execution_count": 49,
   "id": "d62890af",
   "metadata": {},
   "outputs": [
    {
     "name": "stdout",
     "output_type": "stream",
     "text": [
      "grade B\n"
     ]
    }
   ],
   "source": [
    "score=82\n",
    "if score>90:\n",
    "   if score<=100:\n",
    "       print(\"grade A\")\n",
    "else:\n",
    "    if score>80:\n",
    "        if score<=89:\n",
    "            print(\"grade B\")\n",
    "        else:\n",
    "            if score>70:\n",
    "                if score<=79:\n",
    "                    print(\"grade c\")\n",
    "                else:\n",
    "                    print(\"grade f\")\n"
   ]
  },
  {
   "cell_type": "markdown",
   "id": "71672eb5",
   "metadata": {},
   "source": []
  },
  {
   "cell_type": "markdown",
   "id": "7ff6333b",
   "metadata": {},
   "source": [
    "<h1>19.QUESTION</h1>"
   ]
  },
  {
   "cell_type": "code",
   "execution_count": 50,
   "id": "777cb41e",
   "metadata": {},
   "outputs": [
    {
     "name": "stdout",
     "output_type": "stream",
     "text": [
      "15 % discount\n"
     ]
    }
   ],
   "source": [
    "purchase_amount=120\n",
    "is_member=True\n",
    "if  is_member:\n",
    "    if purchase_amount>100:\n",
    "        print(\"15 % discount\")\n",
    "    else:\n",
    "        if purchase_amount>50:\n",
    "            print(\"10%\")\n",
    "        else:\n",
    "            print(\"no discount\")\n",
    "else:\n",
    "    if not is_member:\n",
    "        print(\"No discount\")\n"
   ]
  },
  {
   "cell_type": "markdown",
   "id": "3596f35f",
   "metadata": {},
   "source": [
    "<h1>20.QUESTION</h1>"
   ]
  },
  {
   "cell_type": "code",
   "execution_count": 52,
   "id": "7c289782",
   "metadata": {},
   "outputs": [
    {
     "name": "stdout",
     "output_type": "stream",
     "text": [
      "positive odd\n"
     ]
    }
   ],
   "source": [
    "num=5\n",
    "if num>0:\n",
    "    if num%2==0:\n",
    "        print(\"positive even\")\n",
    "    else:\n",
    "        print(\"positive odd\")\n",
    "else:\n",
    "   if num%2==0:\n",
    "       print(\"negative even\")\n",
    "   else:\n",
    "       print(\"negative odd\")\n"
   ]
  },
  {
   "cell_type": "markdown",
   "id": "c7b5d9f8",
   "metadata": {},
   "source": [
    "<h1>21 QUESTION</h1>"
   ]
  },
  {
   "cell_type": "code",
   "execution_count": 56,
   "id": "cd936b53",
   "metadata": {},
   "outputs": [
    {
     "name": "stdout",
     "output_type": "stream",
     "text": [
      "other\n"
     ]
    }
   ],
   "source": [
    "age=45\n",
    "income=40000\n",
    "if age>40 and age<=60:\n",
    "    if income>50000:\n",
    "     print(\"middle aged high income \")\n",
    "    else:\n",
    "       print(\"other\")\n",
    "else:\n",
    "   (\"other\")"
   ]
  },
  {
   "cell_type": "markdown",
   "id": "a5fdc1e2",
   "metadata": {},
   "source": [
    "<h1>22.Question</h1>"
   ]
  },
  {
   "cell_type": "code",
   "execution_count": 57,
   "id": "9628f59e",
   "metadata": {},
   "outputs": [
    {
     "name": "stdout",
     "output_type": "stream",
     "text": [
      "other\n"
     ]
    }
   ],
   "source": [
    "age=45\n",
    "income=40000\n",
    "if age>40 and age<=60:\n",
    "    if income>50000:\n",
    "     print(\"middle aged high income \")\n",
    "    else:\n",
    "       print(\"other\")\n",
    "else:\n",
    "   (\"other\")"
   ]
  },
  {
   "cell_type": "markdown",
   "id": "97ad24db",
   "metadata": {},
   "source": [
    "<h1>23.QUESTION</h1>"
   ]
  },
  {
   "cell_type": "code",
   "execution_count": 58,
   "id": "89ff82ab",
   "metadata": {},
   "outputs": [
    {
     "name": "stdout",
     "output_type": "stream",
     "text": [
      "other\n"
     ]
    }
   ],
   "source": [
    "score=85\n",
    "age=29\n",
    "if score>85 and score<100:\n",
    "    if age>13 and age<19:\n",
    "        print(\"A\")\n",
    "    else:\n",
    "        print(\"other\")\n",
    "else:\n",
    "    print(\"other\")\n"
   ]
  },
  {
   "cell_type": "markdown",
   "id": "eb7e6ac8",
   "metadata": {},
   "source": [
    "<h1>24.QUESTION</h1>"
   ]
  },
  {
   "cell_type": "code",
   "execution_count": 63,
   "id": "24c57358",
   "metadata": {},
   "outputs": [
    {
     "name": "stdout",
     "output_type": "stream",
     "text": [
      "no dis\n"
     ]
    }
   ],
   "source": [
    "purchase_amount=40\n",
    "is_member=False\n",
    "if is_member:\n",
    " if purchase_amount>75:\n",
    "  print(\"10 % dis\")\n",
    " else:\n",
    "  (\"no dis\")\n",
    "else:\n",
    "   if purchase_amount>50:\n",
    "    print(\"15% dis\")\n",
    "   else:\n",
    "    print(\"no dis\")"
   ]
  },
  {
   "cell_type": "markdown",
   "id": "9f0a879f",
   "metadata": {},
   "source": [
    "<h1>25.Question</h1>"
   ]
  },
  {
   "cell_type": "code",
   "execution_count": 66,
   "id": "3ede09dd",
   "metadata": {},
   "outputs": [
    {
     "name": "stdout",
     "output_type": "stream",
     "text": [
      "above range\n"
     ]
    }
   ],
   "source": [
    "value=102\n",
    "if value>50 and value<100:\n",
    "     print(\"within range\")\n",
    "else:\n",
    "    if value<50:\n",
    "     print(\"below range\")\n",
    "    else:\n",
    "       print(\"above range\")"
   ]
  },
  {
   "cell_type": "code",
   "execution_count": null,
   "id": "4749c833",
   "metadata": {},
   "outputs": [],
   "source": []
  }
 ],
 "metadata": {
  "kernelspec": {
   "display_name": "base",
   "language": "python",
   "name": "python3"
  },
  "language_info": {
   "codemirror_mode": {
    "name": "ipython",
    "version": 3
   },
   "file_extension": ".py",
   "mimetype": "text/x-python",
   "name": "python",
   "nbconvert_exporter": "python",
   "pygments_lexer": "ipython3",
   "version": "3.12.4"
  }
 },
 "nbformat": 4,
 "nbformat_minor": 5
}
