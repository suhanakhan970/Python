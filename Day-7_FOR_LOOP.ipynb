{
 "cells": [
  {
   "cell_type": "markdown",
   "id": "015a4eaf",
   "metadata": {},
   "source": [
    "<h1>LOOPS</h1>"
   ]
  },
  {
   "cell_type": "markdown",
   "id": "228c4ee7",
   "metadata": {},
   "source": [
    "<h5>\n",
    "#Loop is control the flow of execution of statement\n",
    "\n",
    "#Repetation of execution of code\n",
    "\n",
    "\n",
    "1.- Statement(code)\n",
    "\n",
    "    *single line\n",
    "\n",
    "    *Multiple line -(Block)\n",
    "\n",
    "2.-Logical test\n",
    "\n",
    "    *True\n",
    "\n",
    "    *False\n",
    "\n",
    "    #conditional statement- check single time\n",
    "    \n",
    "    #loop-check multiple time</h5>"
   ]
  },
  {
   "cell_type": "markdown",
   "id": "e7b5f508",
   "metadata": {},
   "source": [
    "<h1>TYPES OF LOOPS</h1>"
   ]
  },
  {
   "cell_type": "markdown",
   "id": "6ffafc74",
   "metadata": {},
   "source": [
    "<h5>\n",
    "\n",
    "1.FOR LOOP\n",
    "\n",
    "2.WHILE LOOP</h5>"
   ]
  },
  {
   "cell_type": "markdown",
   "id": "e239a351",
   "metadata": {},
   "source": [
    "<h1>FOR LOOP</h1>\n",
    "*finite loop\n",
    "\n",
    "*repeatdly of execution of code over a sequence\n",
    "\n",
    "*sequence-limit(start point,end point)\n",
    "\n",
    "    # string,list ,tuple,range-----"
   ]
  },
  {
   "cell_type": "markdown",
   "id": "93422883",
   "metadata": {},
   "source": [
    "<h1>SYNTAX</h1>\n",
    "\n",
    "for logical test:\n",
    "\n",
    "   body of for loop"
   ]
  },
  {
   "cell_type": "code",
   "execution_count": 3,
   "id": "f24ef674",
   "metadata": {},
   "outputs": [
    {
     "name": "stdout",
     "output_type": "stream",
     "text": [
      "p\n",
      "y\n",
      "t\n",
      "h\n",
      "o\n",
      "n\n"
     ]
    }
   ],
   "source": [
    "#for loop over a string\n",
    "words=\"python\"\n",
    "for word in words:\n",
    "    print(word)"
   ]
  },
  {
   "cell_type": "code",
   "execution_count": 4,
   "metadata": {},
   "outputs": [
    {
     "name": "stdout",
     "output_type": "stream",
     "text": [
      "s\n",
      "u\n",
      "h\n",
      "a\n",
      "n\n",
      "a\n"
     ]
    }
   ],
   "source": [
    "words=\"suhana\"\n",
    "for loop in words:\n",
    "    print(loop)"
   ]
  },
  {
   "cell_type": "code",
   "execution_count": 5,
   "id": "5b24d0a3",
   "metadata": {},
   "outputs": [
    {
     "name": "stdout",
     "output_type": "stream",
     "text": [
      "suhana\n",
      "suhana\n",
      "suhana\n",
      "suhana\n",
      "suhana\n",
      "suhana\n"
     ]
    }
   ],
   "source": [
    "words=\"suhana\"\n",
    "for loop in words:\n",
    "    print(words)"
   ]
  },
  {
   "cell_type": "code",
   "execution_count": 9,
   "id": "cd873f44",
   "metadata": {},
   "outputs": [
    {
     "name": "stdout",
     "output_type": "stream",
     "text": [
      "india\n",
      "india\n",
      "india\n",
      "india\n",
      "india\n"
     ]
    }
   ],
   "source": [
    "word=\"india\"\n",
    "for loop in word:\n",
    "    print(word)"
   ]
  },
  {
   "cell_type": "code",
   "execution_count": 10,
   "id": "834805a1",
   "metadata": {},
   "outputs": [
    {
     "name": "stdout",
     "output_type": "stream",
     "text": [
      "india\n",
      "india\n",
      "india\n",
      "india\n",
      "india\n",
      "sequence end\n"
     ]
    }
   ],
   "source": [
    "word=\"india\"\n",
    "for loop in word:\n",
    "    print(word)\n",
    "else:\n",
    "    print(\"sequence end\")"
   ]
  },
  {
   "cell_type": "code",
   "execution_count": 12,
   "id": "e4b8dd36",
   "metadata": {},
   "outputs": [
    {
     "name": "stdout",
     "output_type": "stream",
     "text": [
      "suhana\n",
      "suhana\n",
      "suhana\n",
      "suhana\n",
      "suhana\n",
      "sequence end\n"
     ]
    }
   ],
   "source": [
    "word=\"india\"\n",
    "for loop in word:\n",
    "    print(\"suhana\")\n",
    "else:\n",
    "    print(\"sequence end\")"
   ]
  },
  {
   "cell_type": "markdown",
   "id": "0e8d6db1",
   "metadata": {},
   "source": [
    "<h1>FOR LOOP OVER LIST</h1>"
   ]
  },
  {
   "cell_type": "code",
   "execution_count": 13,
   "id": "b8d2cf50",
   "metadata": {},
   "outputs": [
    {
     "name": "stdout",
     "output_type": "stream",
     "text": [
      "apple\n",
      "mango\n",
      "banana\n",
      "orange\n"
     ]
    }
   ],
   "source": [
    "fruit=[\"apple\",\"mango\",\"banana\",\"orange\"]\n",
    "for i in fruit:\n",
    "    print(i)"
   ]
  },
  {
   "cell_type": "markdown",
   "id": "12f01d94",
   "metadata": {},
   "source": [
    "<h1>FOR LOOP OVER RANGE</h1>"
   ]
  },
  {
   "cell_type": "markdown",
   "id": "c1333eab",
   "metadata": {},
   "source": [
    "<h5>\n",
    "\n",
    "*single value in range\n",
    "\n",
    "       -range(n)  \n",
    "  \n",
    "             --end point\n",
    "\n",
    "             --iteration till end point:(n-1)\n",
    "\n",
    "*two value in range\n",
    "       \n",
    "       -range(m,n)\n",
    "       \n",
    "              --start point m end point n \n",
    "\n",
    "*three value in range\n",
    "\n",
    "         -range(m,n,s)\n",
    "\n",
    "              --satart point m end point n  escape s </h5>"
   ]
  },
  {
   "cell_type": "markdown",
   "id": "f83df7eb",
   "metadata": {},
   "source": [
    "<h1>SINGLE VALUE</h1>"
   ]
  },
  {
   "cell_type": "code",
   "execution_count": 14,
   "id": "65b768c2",
   "metadata": {},
   "outputs": [
    {
     "name": "stdout",
     "output_type": "stream",
     "text": [
      "0\n",
      "1\n",
      "2\n",
      "3\n",
      "4\n",
      "5\n",
      "6\n",
      "7\n",
      "8\n",
      "9\n"
     ]
    }
   ],
   "source": [
    "for i in range(10):\n",
    "    print(i)"
   ]
  },
  {
   "cell_type": "markdown",
   "id": "063376c0",
   "metadata": {},
   "source": [
    "<h1>TWO VALUE</h1>"
   ]
  },
  {
   "cell_type": "code",
   "execution_count": 15,
   "id": "cbd59bd3",
   "metadata": {},
   "outputs": [
    {
     "name": "stdout",
     "output_type": "stream",
     "text": [
      "10\n",
      "11\n",
      "12\n",
      "13\n",
      "14\n",
      "15\n",
      "16\n",
      "17\n",
      "18\n",
      "19\n",
      "20\n",
      "21\n",
      "22\n",
      "23\n",
      "24\n"
     ]
    }
   ],
   "source": [
    "for i in range(10,25):\n",
    "    print(i)"
   ]
  },
  {
   "cell_type": "markdown",
   "id": "aa9df39b",
   "metadata": {},
   "source": [
    "<h1>THREE VALUE</h1>"
   ]
  },
  {
   "cell_type": "code",
   "execution_count": 16,
   "id": "58904e33",
   "metadata": {},
   "outputs": [
    {
     "name": "stdout",
     "output_type": "stream",
     "text": [
      "1\n",
      "4\n",
      "7\n",
      "10\n",
      "13\n",
      "16\n",
      "19\n",
      "22\n",
      "25\n",
      "28\n",
      "31\n",
      "34\n",
      "37\n",
      "40\n",
      "43\n",
      "46\n",
      "49\n"
     ]
    }
   ],
   "source": [
    "for i in range(1,50,3):\n",
    "    print(i)"
   ]
  },
  {
   "cell_type": "code",
   "execution_count": 17,
   "id": "30212abb",
   "metadata": {},
   "outputs": [
    {
     "name": "stdout",
     "output_type": "stream",
     "text": [
      "2\n",
      "3\n",
      "4\n",
      "5\n",
      "6\n",
      "7\n",
      "8\n",
      "9\n",
      "10\n",
      "11\n",
      "12\n",
      "13\n",
      "14\n",
      "15\n",
      "16\n",
      "17\n",
      "18\n",
      "19\n",
      "20\n",
      "21\n",
      "22\n",
      "23\n",
      "24\n",
      "25\n",
      "26\n",
      "27\n",
      "28\n",
      "29\n",
      "30\n",
      "31\n",
      "32\n",
      "33\n",
      "34\n",
      "35\n",
      "36\n",
      "37\n",
      "38\n",
      "39\n"
     ]
    }
   ],
   "source": [
    "n=2\n",
    "m=40\n",
    "for i in range(n,m):\n",
    "    print(i)"
   ]
  },
  {
   "cell_type": "markdown",
   "id": "03e808f3",
   "metadata": {},
   "source": [
    "<h1>TABLE OF 2</h1>"
   ]
  },
  {
   "cell_type": "code",
   "execution_count": 18,
   "id": "4f37ab71",
   "metadata": {},
   "outputs": [
    {
     "name": "stdout",
     "output_type": "stream",
     "text": [
      "2 * 1 = 2\n",
      "2 * 2 = 4\n",
      "2 * 3 = 6\n",
      "2 * 4 = 8\n",
      "2 * 5 = 10\n",
      "2 * 6 = 12\n",
      "2 * 7 = 14\n",
      "2 * 8 = 16\n",
      "2 * 9 = 18\n",
      "2 * 10 = 20\n"
     ]
    }
   ],
   "source": [
    "table=2\n",
    "for i in range(1,11):\n",
    "    print(table,\"*\",i,\"=\",table*i)\n"
   ]
  },
  {
   "cell_type": "code",
   "execution_count": 19,
   "id": "714ed481",
   "metadata": {},
   "outputs": [
    {
     "name": "stdout",
     "output_type": "stream",
     "text": [
      "3 * 1 = 3\n",
      "3 * 2 = 6\n",
      "3 * 3 = 9\n",
      "3 * 4 = 12\n",
      "3 * 5 = 15\n",
      "3 * 6 = 18\n",
      "3 * 7 = 21\n",
      "3 * 8 = 24\n",
      "3 * 9 = 27\n",
      "3 * 10 = 30\n"
     ]
    }
   ],
   "source": [
    "table=3\n",
    "for i in range(1,11):\n",
    "    print(table,\"*\",i,\"=\",table*i)"
   ]
  },
  {
   "cell_type": "code",
   "execution_count": 20,
   "id": "f3ffcb9b",
   "metadata": {},
   "outputs": [
    {
     "name": "stdout",
     "output_type": "stream",
     "text": [
      "2\n",
      "22\n",
      "2\n"
     ]
    }
   ],
   "source": [
    "for i in (2,22,2):\n",
    "    print(i)"
   ]
  },
  {
   "cell_type": "markdown",
   "id": "c0752c2d",
   "metadata": {},
   "source": [
    "<h4>write program to find the even number between 10 to 50</h4>"
   ]
  },
  {
   "cell_type": "code",
   "execution_count": 23,
   "id": "c5c42d11",
   "metadata": {},
   "outputs": [
    {
     "name": "stdout",
     "output_type": "stream",
     "text": [
      "10\n",
      "12\n",
      "14\n",
      "16\n",
      "18\n",
      "20\n",
      "22\n",
      "24\n",
      "26\n",
      "28\n",
      "30\n",
      "32\n",
      "34\n",
      "36\n",
      "38\n",
      "40\n",
      "42\n",
      "44\n",
      "46\n",
      "48\n",
      "50\n"
     ]
    }
   ],
   "source": [
    "for i in range(10,51):\n",
    " if i%2==0:\n",
    "  print(i)"
   ]
  },
  {
   "cell_type": "markdown",
   "id": "b08784e8",
   "metadata": {},
   "source": [
    "<h4>write a program find number divission by 5</h4>"
   ]
  },
  {
   "cell_type": "code",
   "execution_count": 24,
   "id": "381273ee",
   "metadata": {},
   "outputs": [
    {
     "name": "stdout",
     "output_type": "stream",
     "text": [
      "10\n",
      "15\n",
      "20\n",
      "25\n",
      "30\n",
      "35\n",
      "40\n",
      "45\n",
      "50\n"
     ]
    }
   ],
   "source": [
    "for i in range(10,51):\n",
    "    if i%5==0:\n",
    "        print(i)"
   ]
  },
  {
   "cell_type": "markdown",
   "id": "e130b26c",
   "metadata": {},
   "source": [
    "<h4>wite a program divission by 5 and 2 both</h4>"
   ]
  },
  {
   "cell_type": "code",
   "execution_count": 25,
   "id": "f149f739",
   "metadata": {},
   "outputs": [
    {
     "name": "stdout",
     "output_type": "stream",
     "text": [
      "10\n",
      "20\n",
      "30\n",
      "40\n",
      "50\n"
     ]
    }
   ],
   "source": [
    "for i in range(10,51):\n",
    "    if i%5==0 and i%2==0:\n",
    "        print(i)\n",
    "\n"
   ]
  },
  {
   "cell_type": "markdown",
   "id": "64e4a7cd",
   "metadata": {},
   "source": [
    "<h4>write a prpgram to find even and odd number between 10 to 50 return value in list form</h4>"
   ]
  },
  {
   "cell_type": "code",
   "execution_count": null,
   "id": "10c5dbc4",
   "metadata": {},
   "outputs": [
    {
     "name": "stdout",
     "output_type": "stream",
     "text": [
      "even [10]\n",
      "odd [11]\n",
      "even [12]\n",
      "odd [13]\n",
      "even [14]\n",
      "odd [15]\n",
      "even [16]\n",
      "odd [17]\n",
      "even [18]\n",
      "odd [19]\n",
      "even [20]\n",
      "odd [21]\n",
      "even [22]\n",
      "odd [23]\n",
      "even [24]\n",
      "odd [25]\n",
      "even [26]\n",
      "odd [27]\n",
      "even [28]\n",
      "odd [29]\n",
      "even [30]\n",
      "odd [31]\n",
      "even [32]\n",
      "odd [33]\n",
      "even [34]\n",
      "odd [35]\n",
      "even [36]\n",
      "odd [37]\n",
      "even [38]\n",
      "odd [39]\n",
      "even [40]\n",
      "odd [41]\n",
      "even [42]\n",
      "odd [43]\n",
      "even [44]\n",
      "odd [45]\n",
      "even [46]\n",
      "odd [47]\n",
      "even [48]\n",
      "odd [49]\n",
      "even [50]\n"
     ]
    }
   ],
   "source": [
    "for i in range(10,51):\n",
    "    if i%2==0:\n",
    "        print(\"even\",i)\n",
    "    else:\n",
    "        print(\"odd\",i)"
   ]
  },
  {
   "cell_type": "code",
   "execution_count": 31,
   "id": "6a70311b",
   "metadata": {},
   "outputs": [
    {
     "name": "stdout",
     "output_type": "stream",
     "text": [
      "the list of even num [10, 12, 14, 16, 18, 20, 22, 24, 26, 28, 30, 32, 34, 36, 38, 40, 42, 44, 46, 48, 50]\n",
      "the list of odd num [11, 13, 15, 17, 19, 21, 23, 25, 27, 29, 31, 33, 35, 37, 39, 41, 43, 45, 47, 49]\n"
     ]
    }
   ],
   "source": [
    "even=[]\n",
    "odd=[]\n",
    "for i in range(10,51):\n",
    "    if i%2==0:\n",
    "        even.append(i)\n",
    "    else:\n",
    "        odd.append(i)\n",
    "print(\"the list of even num\",even)\n",
    "print(\"the list of odd num\",odd)        "
   ]
  },
  {
   "cell_type": "code",
   "execution_count": null,
   "id": "7e2e6047",
   "metadata": {},
   "outputs": [],
   "source": []
  }
 ],
 "metadata": {
  "kernelspec": {
   "display_name": "base",
   "language": "python",
   "name": "python3"
  },
  "language_info": {
   "codemirror_mode": {
    "name": "ipython",
    "version": 3
   },
   "file_extension": ".py",
   "mimetype": "text/x-python",
   "name": "python",
   "nbconvert_exporter": "python",
   "pygments_lexer": "ipython3",
   "version": "3.12.4"
  }
 },
 "nbformat": 4,
 "nbformat_minor": 5
}
