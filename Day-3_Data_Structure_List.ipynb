{
 "cells": [
  {
   "cell_type": "markdown",
   "id": "dbf8e9e8",
   "metadata": {},
   "source": [
    "<h1>DATA STRUCTURE OF PYTHON</h1>"
   ]
  },
  {
   "cell_type": "markdown",
   "id": "f7a301c7",
   "metadata": {},
   "source": [
    "<h3>*list\n",
    "*tuple\n",
    "*dictionary\n",
    "*set</h3>"
   ]
  },
  {
   "cell_type": "markdown",
   "id": "79ce7602",
   "metadata": {},
   "source": [
    "<h1>LIST</h1>"
   ]
  },
  {
   "cell_type": "markdown",
   "id": "1a06779c",
   "metadata": {},
   "source": [
    "<h5>\n",
    "\n",
    "*List ia collection\n",
    "\n",
    "*list can hold all data type of python\n",
    "\n",
    "*Data type enclosed within[----]\n",
    "\n",
    "*list is ordered collection\n",
    "\n",
    "*List-Index-0,1,2,3,4,5,----\n",
    "\n",
    "*List is mutable or editable or changeble\n",
    "\n",
    "*Duplicate allow\n",
    "\n",
    "ex--la=[10,suhana,10.9,]\n",
    "\n",
    "</h5>"
   ]
  },
  {
   "cell_type": "code",
   "execution_count": 6,
   "id": "a96cd04d",
   "metadata": {},
   "outputs": [],
   "source": [
    "ls=[10,20,30,\"ram\",False,34,56,30+56j,20]"
   ]
  },
  {
   "cell_type": "markdown",
   "id": "bf9b260c",
   "metadata": {},
   "source": [
    "TYPE TO CHECK THE DATA TYPE"
   ]
  },
  {
   "cell_type": "code",
   "execution_count": 7,
   "id": "7b26eb3b",
   "metadata": {},
   "outputs": [
    {
     "data": {
      "text/plain": [
       "list"
      ]
     },
     "execution_count": 7,
     "metadata": {},
     "output_type": "execute_result"
    }
   ],
   "source": [
    "#Type to check the data type\n",
    "type(ls)"
   ]
  },
  {
   "cell_type": "markdown",
   "id": "9c3c719a",
   "metadata": {},
   "source": [
    "COUNT OF ELEMENT"
   ]
  },
  {
   "cell_type": "code",
   "execution_count": 5,
   "id": "d90a3dd3",
   "metadata": {},
   "outputs": [
    {
     "data": {
      "text/plain": [
       "8"
      ]
     },
     "execution_count": 5,
     "metadata": {},
     "output_type": "execute_result"
    }
   ],
   "source": [
    "len(ls)"
   ]
  },
  {
   "cell_type": "markdown",
   "id": "64252102",
   "metadata": {},
   "source": [
    "FREQUENCY OF ANY ELEMENT"
   ]
  },
  {
   "cell_type": "code",
   "execution_count": 10,
   "id": "662be157",
   "metadata": {},
   "outputs": [
    {
     "name": "stdout",
     "output_type": "stream",
     "text": [
      "1\n",
      "2\n"
     ]
    }
   ],
   "source": [
    "print(ls.count(10))\n",
    "print(ls.count(20))"
   ]
  },
  {
   "cell_type": "markdown",
   "id": "b0ba734b",
   "metadata": {},
   "source": [
    "ADD ANY ELEMENT BY DEFAULT IN LAST"
   ]
  },
  {
   "cell_type": "code",
   "execution_count": 13,
   "id": "cac65779",
   "metadata": {},
   "outputs": [],
   "source": [
    "ls.append(555)"
   ]
  },
  {
   "cell_type": "code",
   "execution_count": 14,
   "id": "4b2e3668",
   "metadata": {},
   "outputs": [
    {
     "data": {
      "text/plain": [
       "[10, 20, 30, 'ram', False, 34, 56, (30+56j), 20, 555, 555]"
      ]
     },
     "execution_count": 14,
     "metadata": {},
     "output_type": "execute_result"
    }
   ],
   "source": [
    "ls"
   ]
  },
  {
   "cell_type": "markdown",
   "id": "9de70cd6",
   "metadata": {},
   "source": [
    "FIND THE INDEX OF ANY ELEMENT"
   ]
  },
  {
   "cell_type": "code",
   "execution_count": 16,
   "id": "b7d22bd1",
   "metadata": {},
   "outputs": [
    {
     "data": {
      "text/plain": [
       "3"
      ]
     },
     "execution_count": 16,
     "metadata": {},
     "output_type": "execute_result"
    }
   ],
   "source": [
    "ls.index(\"ram\")"
   ]
  },
  {
   "cell_type": "markdown",
   "id": "b39ec8fe",
   "metadata": {},
   "source": [
    "PICKING THE VALUE BY INDEX"
   ]
  },
  {
   "cell_type": "code",
   "execution_count": 18,
   "id": "6e21de8f",
   "metadata": {},
   "outputs": [
    {
     "data": {
      "text/plain": [
       "'ram'"
      ]
     },
     "execution_count": 18,
     "metadata": {},
     "output_type": "execute_result"
    }
   ],
   "source": [
    "ls[3]"
   ]
  },
  {
   "cell_type": "markdown",
   "id": "956f507d",
   "metadata": {},
   "source": [
    "ADD ANY ELEMENT CUSTOM PLACE"
   ]
  },
  {
   "cell_type": "code",
   "execution_count": 19,
   "id": "5979a750",
   "metadata": {},
   "outputs": [],
   "source": [
    "ls.insert(4,True)"
   ]
  },
  {
   "cell_type": "code",
   "execution_count": 20,
   "id": "ea677e88",
   "metadata": {},
   "outputs": [
    {
     "data": {
      "text/plain": [
       "[10, 20, 30, 'ram', True, False, 34, 56, (30+56j), 20, 555, 555]"
      ]
     },
     "execution_count": 20,
     "metadata": {},
     "output_type": "execute_result"
    }
   ],
   "source": [
    "ls"
   ]
  },
  {
   "cell_type": "markdown",
   "id": "5fd6e9a2",
   "metadata": {},
   "source": [
    "DELETE ANY VALUE FROM LIST BYDEFAULT FROM LAST"
   ]
  },
  {
   "cell_type": "code",
   "execution_count": 23,
   "id": "2b5d36bf",
   "metadata": {},
   "outputs": [
    {
     "data": {
      "text/plain": [
       "555"
      ]
     },
     "execution_count": 23,
     "metadata": {},
     "output_type": "execute_result"
    }
   ],
   "source": [
    "ls.pop()"
   ]
  },
  {
   "cell_type": "code",
   "execution_count": 24,
   "id": "45d9a430",
   "metadata": {},
   "outputs": [
    {
     "data": {
      "text/plain": [
       "[10, 30, 'ram', True, False, 34, 56, (30+56j), 20, 555]"
      ]
     },
     "execution_count": 24,
     "metadata": {},
     "output_type": "execute_result"
    }
   ],
   "source": [
    "ls"
   ]
  },
  {
   "cell_type": "code",
   "execution_count": 25,
   "id": "a0bc273a",
   "metadata": {},
   "outputs": [
    {
     "data": {
      "text/plain": [
       "False"
      ]
     },
     "execution_count": 25,
     "metadata": {},
     "output_type": "execute_result"
    }
   ],
   "source": [
    "ls.pop(4)"
   ]
  },
  {
   "cell_type": "code",
   "execution_count": 26,
   "id": "24d591ca",
   "metadata": {},
   "outputs": [
    {
     "data": {
      "text/plain": [
       "[10, 30, 'ram', True, 34, 56, (30+56j), 20, 555]"
      ]
     },
     "execution_count": 26,
     "metadata": {},
     "output_type": "execute_result"
    }
   ],
   "source": [
    "ls"
   ]
  },
  {
   "cell_type": "markdown",
   "id": "c32e327c",
   "metadata": {},
   "source": [
    "DELETE ANY ELEMENT BY VALUE"
   ]
  },
  {
   "cell_type": "code",
   "execution_count": 27,
   "id": "7143db58",
   "metadata": {},
   "outputs": [],
   "source": [
    "ls.remove(34)"
   ]
  },
  {
   "cell_type": "code",
   "execution_count": 28,
   "id": "c8304f41",
   "metadata": {},
   "outputs": [
    {
     "data": {
      "text/plain": [
       "[10, 30, 'ram', True, 56, (30+56j), 20, 555]"
      ]
     },
     "execution_count": 28,
     "metadata": {},
     "output_type": "execute_result"
    }
   ],
   "source": [
    "ls"
   ]
  },
  {
   "cell_type": "code",
   "execution_count": 31,
   "id": "2aeaa8a3",
   "metadata": {},
   "outputs": [],
   "source": [
    "ls.append(40)"
   ]
  },
  {
   "cell_type": "code",
   "execution_count": 32,
   "id": "b114c6a8",
   "metadata": {},
   "outputs": [
    {
     "data": {
      "text/plain": [
       "[10, 30, 'ram', True, 56, (30+56j), 20, 555, 40, 40, 40]"
      ]
     },
     "execution_count": 32,
     "metadata": {},
     "output_type": "execute_result"
    }
   ],
   "source": [
    "ls"
   ]
  },
  {
   "cell_type": "code",
   "execution_count": 35,
   "id": "61d3d27e",
   "metadata": {},
   "outputs": [],
   "source": [
    "ls.remove(40)"
   ]
  },
  {
   "cell_type": "code",
   "execution_count": 36,
   "id": "a4e7dcbc",
   "metadata": {},
   "outputs": [
    {
     "data": {
      "text/plain": [
       "[10, 30, 'ram', True, 56, (30+56j), 20, 555, 40]"
      ]
     },
     "execution_count": 36,
     "metadata": {},
     "output_type": "execute_result"
    }
   ],
   "source": [
    "ls"
   ]
  },
  {
   "cell_type": "markdown",
   "id": "18dafbeb",
   "metadata": {},
   "source": [
    "COPY"
   ]
  },
  {
   "cell_type": "code",
   "execution_count": 37,
   "id": "38d00ed1",
   "metadata": {},
   "outputs": [],
   "source": [
    "ls1=ls.copy()"
   ]
  },
  {
   "cell_type": "code",
   "execution_count": 38,
   "id": "097bcb61",
   "metadata": {},
   "outputs": [
    {
     "data": {
      "text/plain": [
       "[10, 30, 'ram', True, 56, (30+56j), 20, 555, 40]"
      ]
     },
     "execution_count": 38,
     "metadata": {},
     "output_type": "execute_result"
    }
   ],
   "source": [
    "ls1"
   ]
  },
  {
   "cell_type": "markdown",
   "id": "1af81b1f",
   "metadata": {},
   "source": [
    "CLEAR"
   ]
  },
  {
   "cell_type": "code",
   "execution_count": 39,
   "id": "10449567",
   "metadata": {},
   "outputs": [],
   "source": [
    "ls.clear()"
   ]
  },
  {
   "cell_type": "code",
   "execution_count": 40,
   "id": "9d460a2e",
   "metadata": {},
   "outputs": [
    {
     "data": {
      "text/plain": [
       "[]"
      ]
     },
     "execution_count": 40,
     "metadata": {},
     "output_type": "execute_result"
    }
   ],
   "source": [
    "ls"
   ]
  },
  {
   "cell_type": "markdown",
   "id": "96d0569e",
   "metadata": {},
   "source": [
    "functions"
   ]
  },
  {
   "cell_type": "code",
   "execution_count": 42,
   "id": "896e3ff5",
   "metadata": {},
   "outputs": [],
   "source": [
    "lsm=[10,20,30,40,50,60,67,32]"
   ]
  },
  {
   "cell_type": "code",
   "execution_count": 44,
   "id": "96e005ce",
   "metadata": {},
   "outputs": [
    {
     "name": "stdout",
     "output_type": "stream",
     "text": [
      "309\n",
      "67\n",
      "10\n",
      "8\n"
     ]
    }
   ],
   "source": [
    "print(sum(lsm))\n",
    "print(max(lsm))\n",
    "print(min(lsm))\n",
    "print(len(lsm))"
   ]
  },
  {
   "cell_type": "code",
   "execution_count": null,
   "id": "f27dd8b6",
   "metadata": {},
   "outputs": [],
   "source": []
  },
  {
   "cell_type": "code",
   "execution_count": 54,
   "id": "331c8b0f",
   "metadata": {},
   "outputs": [],
   "source": [
    "sales=[10,20,3056,78,9000,45000]\n",
    "day=[\"mon\",\"tue\",\"wed\",\"thr\",\"fri\",\"sat\"]\n",
    "#find the day name of max sales \n",
    "\n",
    "\n"
   ]
  },
  {
   "cell_type": "code",
   "execution_count": 50,
   "id": "b8ca25cb",
   "metadata": {},
   "outputs": [
    {
     "data": {
      "text/plain": [
       "9000"
      ]
     },
     "execution_count": 50,
     "metadata": {},
     "output_type": "execute_result"
    }
   ],
   "source": [
    "max(sales)"
   ]
  },
  {
   "cell_type": "code",
   "execution_count": 51,
   "id": "e2559cad",
   "metadata": {},
   "outputs": [
    {
     "data": {
      "text/plain": [
       "4"
      ]
     },
     "execution_count": 51,
     "metadata": {},
     "output_type": "execute_result"
    }
   ],
   "source": [
    "sales.index(9000)"
   ]
  },
  {
   "cell_type": "code",
   "execution_count": 52,
   "id": "eb82837e",
   "metadata": {},
   "outputs": [
    {
     "data": {
      "text/plain": [
       "'fri'"
      ]
     },
     "execution_count": 52,
     "metadata": {},
     "output_type": "execute_result"
    }
   ],
   "source": [
    "day[4]"
   ]
  },
  {
   "cell_type": "code",
   "execution_count": 55,
   "id": "8b7d98c6",
   "metadata": {},
   "outputs": [
    {
     "data": {
      "text/plain": [
       "'sat'"
      ]
     },
     "execution_count": 55,
     "metadata": {},
     "output_type": "execute_result"
    }
   ],
   "source": [
    "day[sales.index(max(sales))]"
   ]
  },
  {
   "cell_type": "markdown",
   "id": "392d8260",
   "metadata": {},
   "source": [
    "<h1>TUPLE</h1>"
   ]
  },
  {
   "cell_type": "markdown",
   "id": "5e080b2a",
   "metadata": {},
   "source": [
    "<h5>\n",
    "\n",
    "*tuple is collection\n",
    "\n",
    "*it hold all adata type\n",
    "\n",
    "*Item are enclosed within(----)\n",
    "\n",
    "*Tuple is ordered collection\n",
    "\n",
    "*Index-0,1,2,3,4,5,6,7,8,9\n",
    "\n",
    "*Immutable or non editable or unchangeable\n",
    "\n",
    "*Duplicate allow\n",
    "</h5>"
   ]
  },
  {
   "cell_type": "code",
   "execution_count": 56,
   "id": "42bee56a",
   "metadata": {},
   "outputs": [],
   "source": [
    "tp=(10,20,30,40,20,\"ram\",True,10+20j)"
   ]
  },
  {
   "cell_type": "markdown",
   "id": "660a1e3f",
   "metadata": {},
   "source": [
    "CHECK DATA TYPE\n",
    "#int,float,char\n",
    "TYPE OF DATA\n",
    "  *sales\n",
    "  *profit\n",
    "  *quantity"
   ]
  },
  {
   "cell_type": "code",
   "execution_count": 57,
   "id": "3492da5c",
   "metadata": {},
   "outputs": [
    {
     "data": {
      "text/plain": [
       "tuple"
      ]
     },
     "execution_count": 57,
     "metadata": {},
     "output_type": "execute_result"
    }
   ],
   "source": [
    "type(tp)"
   ]
  },
  {
   "cell_type": "markdown",
   "id": "56b6afa4",
   "metadata": {},
   "source": [
    "COUNT OF ELEMENT"
   ]
  },
  {
   "cell_type": "code",
   "execution_count": 59,
   "id": "fb6b2487",
   "metadata": {},
   "outputs": [
    {
     "data": {
      "text/plain": [
       "8"
      ]
     },
     "execution_count": 59,
     "metadata": {},
     "output_type": "execute_result"
    }
   ],
   "source": [
    "len(tp)"
   ]
  },
  {
   "cell_type": "markdown",
   "id": "1c9f6d24",
   "metadata": {},
   "source": [
    "FREQUENCY COUNT"
   ]
  },
  {
   "cell_type": "code",
   "execution_count": 60,
   "id": "f783f986",
   "metadata": {},
   "outputs": [
    {
     "data": {
      "text/plain": [
       "1"
      ]
     },
     "execution_count": 60,
     "metadata": {},
     "output_type": "execute_result"
    }
   ],
   "source": [
    "tp.count(10)"
   ]
  },
  {
   "cell_type": "code",
   "execution_count": 61,
   "id": "9f1a914c",
   "metadata": {},
   "outputs": [
    {
     "ename": "AttributeError",
     "evalue": "'tuple' object has no attribute 'append'",
     "output_type": "error",
     "traceback": [
      "\u001b[1;31m---------------------------------------------------------------------------\u001b[0m",
      "\u001b[1;31mAttributeError\u001b[0m                            Traceback (most recent call last)",
      "Cell \u001b[1;32mIn[61], line 1\u001b[0m\n\u001b[1;32m----> 1\u001b[0m \u001b[43mtp\u001b[49m\u001b[38;5;241;43m.\u001b[39;49m\u001b[43mappend\u001b[49m(\u001b[38;5;241m90\u001b[39m)\n",
      "\u001b[1;31mAttributeError\u001b[0m: 'tuple' object has no attribute 'append'"
     ]
    }
   ],
   "source": [
    "tp.append(90)"
   ]
  },
  {
   "cell_type": "code",
   "execution_count": 62,
   "id": "aa2b90cb",
   "metadata": {},
   "outputs": [
    {
     "ename": "AttributeError",
     "evalue": "'tuple' object has no attribute 'pop'",
     "output_type": "error",
     "traceback": [
      "\u001b[1;31m---------------------------------------------------------------------------\u001b[0m",
      "\u001b[1;31mAttributeError\u001b[0m                            Traceback (most recent call last)",
      "Cell \u001b[1;32mIn[62], line 1\u001b[0m\n\u001b[1;32m----> 1\u001b[0m \u001b[43mtp\u001b[49m\u001b[38;5;241;43m.\u001b[39;49m\u001b[43mpop\u001b[49m()\n",
      "\u001b[1;31mAttributeError\u001b[0m: 'tuple' object has no attribute 'pop'"
     ]
    }
   ],
   "source": [
    "tp.pop()"
   ]
  },
  {
   "cell_type": "code",
   "execution_count": 64,
   "id": "ffa42c95",
   "metadata": {},
   "outputs": [
    {
     "data": {
      "text/plain": [
       "[10, 30, 'ram', True, 56, (30+56j), 20, 555, 40]"
      ]
     },
     "execution_count": 64,
     "metadata": {},
     "output_type": "execute_result"
    }
   ],
   "source": [
    "ls1"
   ]
  },
  {
   "cell_type": "code",
   "execution_count": 65,
   "id": "6d67bf48",
   "metadata": {},
   "outputs": [
    {
     "data": {
      "text/plain": [
       "(10, 30, 'ram', True, 56, (30+56j), 20, 555, 40)"
      ]
     },
     "execution_count": 65,
     "metadata": {},
     "output_type": "execute_result"
    }
   ],
   "source": [
    "tuple(ls1)"
   ]
  },
  {
   "cell_type": "code",
   "execution_count": 66,
   "id": "65b80a93",
   "metadata": {},
   "outputs": [
    {
     "ename": "TypeError",
     "evalue": "'list' object is not callable",
     "output_type": "error",
     "traceback": [
      "\u001b[1;31m---------------------------------------------------------------------------\u001b[0m",
      "\u001b[1;31mTypeError\u001b[0m                                 Traceback (most recent call last)",
      "Cell \u001b[1;32mIn[66], line 1\u001b[0m\n\u001b[1;32m----> 1\u001b[0m \u001b[43mls1\u001b[49m\u001b[43m(\u001b[49m\u001b[43mtp\u001b[49m\u001b[43m)\u001b[49m\n",
      "\u001b[1;31mTypeError\u001b[0m: 'list' object is not callable"
     ]
    }
   ],
   "source": [
    "ls1(tp)"
   ]
  },
  {
   "cell_type": "code",
   "execution_count": null,
   "id": "b57e4b76",
   "metadata": {},
   "outputs": [],
   "source": []
  }
 ],
 "metadata": {
  "kernelspec": {
   "display_name": "base",
   "language": "python",
   "name": "python3"
  },
  "language_info": {
   "codemirror_mode": {
    "name": "ipython",
    "version": 3
   },
   "file_extension": ".py",
   "mimetype": "text/x-python",
   "name": "python",
   "nbconvert_exporter": "python",
   "pygments_lexer": "ipython3",
   "version": "3.12.4"
  }
 },
 "nbformat": 4,
 "nbformat_minor": 5
}
