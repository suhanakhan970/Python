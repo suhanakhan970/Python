{
 "cells": [
  {
   "cell_type": "code",
   "execution_count": 4,
   "id": "75a752f6",
   "metadata": {},
   "outputs": [
    {
     "name": "stdout",
     "output_type": "stream",
     "text": [
      "\n",
      "Here is a list of the Python keywords.  Enter any keyword to get more help.\n",
      "\n",
      "False               class               from                or\n",
      "None                continue            global              pass\n",
      "True                def                 if                  raise\n",
      "and                 del                 import              return\n",
      "as                  elif                in                  try\n",
      "assert              else                is                  while\n",
      "async               except              lambda              with\n",
      "await               finally             nonlocal            yield\n",
      "break               for                 not                 \n",
      "\n"
     ]
    }
   ],
   "source": [
    "help(\"keywords\")"
   ]
  },
  {
   "cell_type": "code",
   "execution_count": 5,
   "id": "93a034b2",
   "metadata": {},
   "outputs": [
    {
     "name": "stdout",
     "output_type": "stream",
     "text": [
      "The \"if\" statement\n",
      "******************\n",
      "\n",
      "The \"if\" statement is used for conditional execution:\n",
      "\n",
      "   if_stmt ::= \"if\" assignment_expression \":\" suite\n",
      "               (\"elif\" assignment_expression \":\" suite)*\n",
      "               [\"else\" \":\" suite]\n",
      "\n",
      "It selects exactly one of the suites by evaluating the expressions one\n",
      "by one until one is found to be true (see section Boolean operations\n",
      "for the definition of true and false); then that suite is executed\n",
      "(and no other part of the \"if\" statement is executed or evaluated).\n",
      "If all expressions are false, the suite of the \"else\" clause, if\n",
      "present, is executed.\n",
      "\n",
      "Related help topics: TRUTHVALUE\n",
      "\n"
     ]
    }
   ],
   "source": [
    "help(\"if\")"
   ]
  },
  {
   "cell_type": "code",
   "execution_count": 6,
   "id": "1e3cbdba",
   "metadata": {},
   "outputs": [
    {
     "name": "stdout",
     "output_type": "stream",
     "text": [
      "Lambdas\n",
      "*******\n",
      "\n",
      "   lambda_expr ::= \"lambda\" [parameter_list] \":\" expression\n",
      "\n",
      "Lambda expressions (sometimes called lambda forms) are used to create\n",
      "anonymous functions. The expression \"lambda parameters: expression\"\n",
      "yields a function object.  The unnamed object behaves like a function\n",
      "object defined with:\n",
      "\n",
      "   def <lambda>(parameters):\n",
      "       return expression\n",
      "\n",
      "See section Function definitions for the syntax of parameter lists.\n",
      "Note that functions created with lambda expressions cannot contain\n",
      "statements or annotations.\n",
      "\n",
      "Related help topics: FUNCTIONS\n",
      "\n"
     ]
    }
   ],
   "source": [
    "help(\"lambda\")"
   ]
  },
  {
   "cell_type": "code",
   "execution_count": 7,
   "id": "ff2f90bd",
   "metadata": {},
   "outputs": [
    {
     "data": {
      "text/plain": [
       "10"
      ]
     },
     "execution_count": 7,
     "metadata": {},
     "output_type": "execute_result"
    }
   ],
   "source": [
    "#Variables\n",
    "# variable works as placeholders where single value can holds\n",
    "#variable name of memory location where value can hiold\n",
    "a=10\n",
    "#variable:a\n",
    "#value:10\n",
    "#equal to:assign\n",
    "a=10\n",
    "a"
   ]
  },
  {
   "cell_type": "code",
   "execution_count": null,
   "id": "bc3a18fa",
   "metadata": {},
   "outputs": [
    {
     "data": {
      "text/plain": [
       "140714499193560"
      ]
     },
     "execution_count": 8,
     "metadata": {},
     "output_type": "execute_result"
    }
   ],
   "source": [
    "id(a)\n",
    "#addresss of a"
   ]
  },
  {
   "cell_type": "markdown",
   "id": "1c67b934",
   "metadata": {},
   "source": [
    "Rules Name\n",
    "1-variable name always start with character\n",
    "2-it can be alpha numeric bur number can not comes first\n",
    "3- no special character\n",
    "4-underscore are alowd\n",
    "5-multiple words column name not allowd with space"
   ]
  },
  {
   "cell_type": "code",
   "execution_count": 9,
   "id": "d41b62ab",
   "metadata": {},
   "outputs": [],
   "source": [
    "a=10"
   ]
  },
  {
   "cell_type": "code",
   "execution_count": 10,
   "id": "c281cf60",
   "metadata": {},
   "outputs": [
    {
     "ename": "SyntaxError",
     "evalue": "invalid decimal literal (2509067257.py, line 1)",
     "output_type": "error",
     "traceback": [
      "\u001b[1;36m  Cell \u001b[1;32mIn[10], line 1\u001b[1;36m\u001b[0m\n\u001b[1;33m    1b=30\u001b[0m\n\u001b[1;37m    ^\u001b[0m\n\u001b[1;31mSyntaxError\u001b[0m\u001b[1;31m:\u001b[0m invalid decimal literal\n"
     ]
    }
   ],
   "source": [
    "1b=30"
   ]
  },
  {
   "cell_type": "code",
   "execution_count": 11,
   "id": "de4acbb9",
   "metadata": {},
   "outputs": [],
   "source": [
    "b1=40"
   ]
  },
  {
   "cell_type": "code",
   "execution_count": 12,
   "id": "4a727b8b",
   "metadata": {},
   "outputs": [
    {
     "ename": "NameError",
     "evalue": "name 'b' is not defined",
     "output_type": "error",
     "traceback": [
      "\u001b[1;31m---------------------------------------------------------------------------\u001b[0m",
      "\u001b[1;31mNameError\u001b[0m                                 Traceback (most recent call last)",
      "Cell \u001b[1;32mIn[12], line 1\u001b[0m\n\u001b[1;32m----> 1\u001b[0m \u001b[43mb\u001b[49m\u001b[38;5;241m@\u001b[39m\u001b[38;5;241m=\u001b[39m\u001b[38;5;241m30\u001b[39m\n",
      "\u001b[1;31mNameError\u001b[0m: name 'b' is not defined"
     ]
    }
   ],
   "source": [
    "b@=30"
   ]
  },
  {
   "cell_type": "code",
   "execution_count": 13,
   "id": "aa9f6bea",
   "metadata": {},
   "outputs": [
    {
     "ename": "SyntaxError",
     "evalue": "invalid syntax (2669002138.py, line 1)",
     "output_type": "error",
     "traceback": [
      "\u001b[1;36m  Cell \u001b[1;32mIn[13], line 1\u001b[1;36m\u001b[0m\n\u001b[1;33m    total msales=40\u001b[0m\n\u001b[1;37m          ^\u001b[0m\n\u001b[1;31mSyntaxError\u001b[0m\u001b[1;31m:\u001b[0m invalid syntax\n"
     ]
    }
   ],
   "source": [
    "total msales=40"
   ]
  },
  {
   "cell_type": "code",
   "execution_count": 14,
   "id": "485dfe26",
   "metadata": {},
   "outputs": [],
   "source": [
    "total_sales=40"
   ]
  },
  {
   "cell_type": "markdown",
   "id": "23935a58",
   "metadata": {},
   "source": [
    "operators\n",
    "to perform the operations you need operator\n",
    "1-Arithimetic op\n",
    "2-Comparission op or Relational op\n",
    "3-Logical op\n",
    "4-Membership op\n",
    "5-Identity op\n",
    "6-Assignment op\n",
    "7-Bitwiseb op"
   ]
  },
  {
   "cell_type": "code",
   "execution_count": 20,
   "id": "84717fbb",
   "metadata": {},
   "outputs": [
    {
     "name": "stdout",
     "output_type": "stream",
     "text": [
      "30\n",
      "10\n",
      "200\n",
      "2.0\n",
      "2\n",
      "10240000000000\n",
      "0\n"
     ]
    }
   ],
   "source": [
    "#Arithemetic operators\n",
    "#+,-,*,/(float)\n",
    "#power:**\n",
    "#remainder:%\n",
    "#divission://(int)\n",
    "a=20\n",
    "b=10\n",
    "print(a+b)\n",
    "print(a-b)\n",
    "print(a*b)\n",
    "print(a/b)\n",
    "print(a//b)\n",
    "print(a**b)\n",
    "print(a%b)\n"
   ]
  },
  {
   "cell_type": "code",
   "execution_count": 25,
   "id": "a843b760",
   "metadata": {},
   "outputs": [
    {
     "name": "stdout",
     "output_type": "stream",
     "text": [
      "False\n",
      "False\n",
      "True\n",
      "True\n",
      "False\n"
     ]
    }
   ],
   "source": [
    "#Comparission operator or relational operators\n",
    "#==,!=,<,>,<=,>=\n",
    "#o/p return in form of TRUE or FALSE\n",
    "num1=20\n",
    "num2=30\n",
    "print(num1==num2)\n",
    "print(num1>num2)\n",
    "print(num1<num2)\n",
    "print(num1<=num2)\n",
    "print(num1>=num2)"
   ]
  },
  {
   "cell_type": "code",
   "execution_count": 30,
   "id": "31acd7fa",
   "metadata": {},
   "outputs": [
    {
     "name": "stdout",
     "output_type": "stream",
     "text": [
      "False\n",
      "True\n",
      "False\n",
      "True\n"
     ]
    }
   ],
   "source": [
    "#Membership operatror\n",
    "#in:TRUE if value inside the function\n",
    "#not:in TRue if value not inside the collection\n",
    "ls=[12,13,14,15]\n",
    "print(40 in ls)\n",
    "print(12 in ls)\n",
    "print(13 not in ls)\n",
    "print(22 not in ls)\n"
   ]
  },
  {
   "cell_type": "code",
   "execution_count": 33,
   "id": "af7e166d",
   "metadata": {},
   "outputs": [
    {
     "name": "stdout",
     "output_type": "stream",
     "text": [
      "True\n",
      "False\n"
     ]
    }
   ],
   "source": [
    "#Identity operator\n",
    "#is---- TRUE when the value are same\n",
    "#is not--- TRUE :the value are not same\n",
    "a=10\n",
    "b=10\n",
    "c=20\n",
    "print(a is b)\n",
    "print(a is c)"
   ]
  },
  {
   "cell_type": "code",
   "execution_count": 38,
   "id": "8eb8807e",
   "metadata": {},
   "outputs": [
    {
     "data": {
      "text/plain": [
       "140714499193560"
      ]
     },
     "execution_count": 38,
     "metadata": {},
     "output_type": "execute_result"
    }
   ],
   "source": [
    "#checkmlocation\n",
    "id(b)"
   ]
  },
  {
   "cell_type": "code",
   "execution_count": 36,
   "id": "a860c6b5",
   "metadata": {},
   "outputs": [
    {
     "data": {
      "text/plain": [
       "140714499193560"
      ]
     },
     "execution_count": 36,
     "metadata": {},
     "output_type": "execute_result"
    }
   ],
   "source": [
    "id(a)"
   ]
  },
  {
   "cell_type": "code",
   "execution_count": 37,
   "id": "9e31be6b",
   "metadata": {},
   "outputs": [
    {
     "data": {
      "text/plain": [
       "140714499193880"
      ]
     },
     "execution_count": 37,
     "metadata": {},
     "output_type": "execute_result"
    }
   ],
   "source": [
    "id(c)"
   ]
  },
  {
   "cell_type": "code",
   "execution_count": 44,
   "id": "f861de4a",
   "metadata": {},
   "outputs": [
    {
     "name": "stdout",
     "output_type": "stream",
     "text": [
      "30\n",
      "10\n",
      "200\n"
     ]
    }
   ],
   "source": [
    "#Assignment operator\n",
    "a=10\n",
    "#a=a+20\n",
    "a+=20\n",
    "print(a)\n",
    "a-=20\n",
    "print(a)\n",
    "a*=20\n",
    "print(a)"
   ]
  },
  {
   "cell_type": "code",
   "execution_count": 52,
   "id": "922bce46",
   "metadata": {},
   "outputs": [
    {
     "name": "stdout",
     "output_type": "stream",
     "text": [
      "0\n",
      "1\n",
      "1\n",
      "1\n",
      "0\n",
      "1\n",
      "0\n"
     ]
    }
   ],
   "source": [
    "#Bitwise operator\n",
    "#binary numbers\n",
    "# ans &\n",
    "# or /\n",
    "print(0&1)\n",
    "print(0|1)\n",
    "print(1&1)\n",
    "print(1|1)\n",
    "print(1&0)\n",
    "print(1|0)\n",
    "print(0&0)\n"
   ]
  },
  {
   "cell_type": "code",
   "execution_count": 51,
   "id": "5a71db75",
   "metadata": {},
   "outputs": [
    {
     "data": {
      "text/plain": [
       "2"
      ]
     },
     "execution_count": 51,
     "metadata": {},
     "output_type": "execute_result"
    }
   ],
   "source": [
    "6&2"
   ]
  },
  {
   "cell_type": "code",
   "execution_count": null,
   "id": "bf8dfb2f",
   "metadata": {},
   "outputs": [],
   "source": []
  }
 ],
 "metadata": {
  "kernelspec": {
   "display_name": "base",
   "language": "python",
   "name": "python3"
  },
  "language_info": {
   "codemirror_mode": {
    "name": "ipython",
    "version": 3
   },
   "file_extension": ".py",
   "mimetype": "text/x-python",
   "name": "python",
   "nbconvert_exporter": "python",
   "pygments_lexer": "ipython3",
   "version": "3.12.4"
  }
 },
 "nbformat": 4,
 "nbformat_minor": 5
}
