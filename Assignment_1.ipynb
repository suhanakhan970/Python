{
 "cells": [
  {
   "cell_type": "code",
   "execution_count": null,
   "id": "de2923c3",
   "metadata": {},
   "outputs": [],
   "source": []
  },
  {
   "cell_type": "markdown",
   "id": "5e07f2d4",
   "metadata": {},
   "source": [
    "<h1 style=\"text-align:center;>ASSIGNMENT 1</h1>"
   ]
  },
  {
   "cell_type": "markdown",
   "id": "71b8edcb",
   "metadata": {},
   "source": [
    "<h1 style=\"text-align: center;\"> Assignment 1</h1>"
   ]
  },
  {
   "cell_type": "markdown",
   "id": "1ba151a4",
   "metadata": {},
   "source": [
    "<h3>1.Basic Arithemetic</h3>"
   ]
  },
  {
   "cell_type": "code",
   "execution_count": 10,
   "id": "adf30f6c",
   "metadata": {},
   "outputs": [
    {
     "name": "stdout",
     "output_type": "stream",
     "text": [
      "38\n",
      "-24\n",
      "42\n",
      "12.0\n",
      "5\n"
     ]
    }
   ],
   "source": [
    "#write a python script to perform the following operation.print\n",
    "a=15\n",
    "b=23\n",
    "print(a+b)\n",
    "a=48\n",
    "b=72\n",
    "print(a-b)\n",
    "a=7\n",
    "b=6\n",
    "print(a*b)\n",
    "a=144\n",
    "b=12\n",
    "print(a/b)\n",
    "a=50\n",
    "b=9\n",
    "print(50%9)"
   ]
  },
  {
   "cell_type": "markdown",
   "id": "9681eba1",
   "metadata": {},
   "source": [
    "<h3>2. Simple expression</h3>"
   ]
  },
  {
   "cell_type": "code",
   "execution_count": 13,
   "id": "5834ead0",
   "metadata": {},
   "outputs": [
    {
     "name": "stdout",
     "output_type": "stream",
     "text": [
      "55\n",
      "7.0\n",
      "3\n"
     ]
    }
   ],
   "source": [
    "#evaluate the following expresssion and print the result:\n",
    "a=8\n",
    "b=3\n",
    "c=5\n",
    "d=(a+b)*c\n",
    "print(d)\n",
    "\n",
    "a=50\n",
    "b=15\n",
    "c=5\n",
    "d=(a-b)/c\n",
    "print(d)\n",
    "\n",
    "a=45\n",
    "b=6\n",
    "print(a%b)"
   ]
  },
  {
   "cell_type": "markdown",
   "id": "40b95097",
   "metadata": {},
   "source": [
    "<h3>3.Concatenation with strings</h3>"
   ]
  },
  {
   "cell_type": "code",
   "execution_count": 17,
   "id": "22aceb01",
   "metadata": {},
   "outputs": [
    {
     "name": "stdout",
     "output_type": "stream",
     "text": [
      "alice is 25years old\n",
      "alice lives in paris\n"
     ]
    }
   ],
   "source": [
    "#combine the following text with variables and print the output\n",
    "#define a variable name=\"Alice and age=25 print \"alice is 25 year old\"\n",
    "name=\"alice\"\n",
    "age=25\n",
    "print(f\"{name} is {age}years old\")\n",
    "city=\"paris\"\n",
    "print(f\"{name} lives in {city}\")"
   ]
  },
  {
   "cell_type": "markdown",
   "id": "744188aa",
   "metadata": {},
   "source": [
    "<h4>4. order of operation</h3>"
   ]
  },
  {
   "cell_type": "code",
   "execution_count": 21,
   "metadata": {},
   "outputs": [
    {
     "name": "stdout",
     "output_type": "stream",
     "text": [
      "15\n",
      "21\n",
      "10125\n",
      "6.0\n"
     ]
    }
   ],
   "source": [
    "#calculate and print the results of the following.\n",
    "a=5\n",
    "b=2\n",
    "\n",
    "d=(a+b*a)\n",
    "print(d)\n",
    "\n",
    "a=5\n",
    "b=2\n",
    "c=3\n",
    "d=(a+b)*3\n",
    "print(d)\n",
    "\n",
    "a=100\n",
    "b=25\n",
    "c=3\n",
    "d=10100\n",
    "d=(a-(b*3)+d)\n",
    "print(d)\n",
    "\n",
    "a=8\n",
    "b=16\n",
    "c=2\n",
    "d=5\n",
    "e=a+(b/c)-(d*c)\n",
    "print(e)"
   ]
  },
  {
   "cell_type": "markdown",
   "id": "71969e8d",
   "metadata": {},
   "source": [
    "<h3>5. Decimal Division and integer Division</h3>"
   ]
  },
  {
   "cell_type": "code",
   "execution_count": 23,
   "id": "83c15eec",
   "metadata": {},
   "outputs": [
    {
     "name": "stdout",
     "output_type": "stream",
     "text": [
      "0.03614457831325301\n",
      "0\n"
     ]
    }
   ],
   "source": [
    "#use print to display the diffrence between:\n",
    "a=15\n",
    "b=415\n",
    "print(a/b)\n",
    "print(a//b)\n"
   ]
  },
  {
   "cell_type": "markdown",
   "id": "f35065af",
   "metadata": {},
   "source": [
    "<h3>6.Price calculation</h3>"
   ]
  },
  {
   "cell_type": "code",
   "execution_count": 25,
   "id": "5b59c0b4",
   "metadata": {},
   "outputs": [
    {
     "name": "stdout",
     "output_type": "stream",
     "text": [
      "36.03\n",
      "2.8824\n",
      "38.9124\n"
     ]
    }
   ],
   "source": [
    "#write a program to calculate the total cost of buying 3 items:\n",
    "#item 1 cost$12.49,item2 costs$8.99,and item 3 costs $14.55\n",
    "item1=12.49\n",
    "item2=8.99\n",
    "item3=14.55\n",
    "print(item1+item2+item3)\n",
    "#calculate the subtotal,apply a sales tax of 8%,and display the total cost\n",
    "subtotal=36.03\n",
    "taxrate=0.08\n",
    "saletax=subtotal*taxrate\n",
    "total_cost=(subtotal+saletax)\n",
    "print(saletax)\n",
    "print(total_cost)"
   ]
  },
  {
   "cell_type": "markdown",
   "id": "84794f8d",
   "metadata": {},
   "source": [
    "<h3>7.time converssion</h3>"
   ]
  },
  {
   "cell_type": "code",
   "execution_count": 28,
   "id": "cfa5fd34",
   "metadata": {},
   "outputs": [
    {
     "name": "stdout",
     "output_type": "stream",
     "text": [
      "10.75\n",
      "45\n"
     ]
    }
   ],
   "source": [
    "#convert 645 min into hours and minutes.\n",
    "min=645\n",
    "hour=min/60\n",
    "print(hour)\n",
    "minf=min-10*60\n",
    "print(minf)"
   ]
  },
  {
   "cell_type": "markdown",
   "id": "43496cc9",
   "metadata": {},
   "source": [
    "<h3>8. Distance and speed</h3>"
   ]
  },
  {
   "cell_type": "code",
   "execution_count": 41,
   "id": "7fb8e391",
   "metadata": {},
   "outputs": [
    {
     "name": "stdout",
     "output_type": "stream",
     "text": [
      "average speed: 60.0 miles per hour\n",
      "8.333333333333334\n"
     ]
    }
   ],
   "source": [
    "#if a car travels 150 miles in 2.5hours,calculate and print:\n",
    "#its average speed in miles per hour\n",
    "distance=150\n",
    "speed=2.5\n",
    "average_speed=distance/speed\n",
    "\n",
    "print(\"average speed:\",average_speed,\"miles per hour\")\n",
    "#how long it would take to travel 500 miles at the same speed\n",
    "distance=500\n",
    "speed=60\n",
    "time=distance/speed\n",
    "print(time)"
   ]
  },
  {
   "cell_type": "markdown",
   "id": "db0caceb",
   "metadata": {},
   "source": [
    "<h3>8.Celsius to fahrenheit</h3>"
   ]
  },
  {
   "cell_type": "code",
   "execution_count": null,
   "id": "6c686245",
   "metadata": {},
   "outputs": [],
   "source": [
    "#converting degrees Celsius to fahrenhei involves using this formula\n"
   ]
  },
  {
   "cell_type": "code",
   "execution_count": null,
   "id": "1f980bd2",
   "metadata": {},
   "outputs": [],
   "source": []
  }
 ],
 "metadata": {
  "kernelspec": {
   "display_name": "base",
   "language": "python",
   "name": "python3"
  },
  "language_info": {
   "codemirror_mode": {
    "name": "ipython",
    "version": 3
   },
   "file_extension": ".py",
   "mimetype": "text/x-python",
   "name": "python",
   "nbconvert_exporter": "python",
   "pygments_lexer": "ipython3",
   "version": "3.12.4"
  }
 },
 "nbformat": 4,
 "nbformat_minor": 5
}
